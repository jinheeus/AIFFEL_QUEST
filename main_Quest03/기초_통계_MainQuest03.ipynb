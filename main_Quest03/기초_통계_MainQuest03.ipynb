{
  "nbformat": 4,
  "nbformat_minor": 0,
  "metadata": {
    "colab": {
      "provenance": []
    },
    "kernelspec": {
      "name": "python3",
      "display_name": "Python 3"
    },
    "language_info": {
      "name": "python"
    }
  },
  "cells": [
    {
      "cell_type": "code",
      "execution_count": 1,
      "metadata": {
        "id": "roCZN58vEV8j"
      },
      "outputs": [],
      "source": [
        "import pandas as pd\n",
        "import numpy as np\n",
        "import matplotlib.pyplot as plt\n",
        "import seaborn as sns"
      ]
    },
    {
      "cell_type": "code",
      "source": [
        "!pip install kagglehub"
      ],
      "metadata": {
        "id": "Ln2ta7MtEeBn",
        "colab": {
          "base_uri": "https://localhost:8080/"
        },
        "outputId": "76c3c869-b373-48a6-ce81-c148afb891c4"
      },
      "execution_count": 2,
      "outputs": [
        {
          "output_type": "stream",
          "name": "stdout",
          "text": [
            "Requirement already satisfied: kagglehub in /usr/local/lib/python3.12/dist-packages (0.3.13)\n",
            "Requirement already satisfied: packaging in /usr/local/lib/python3.12/dist-packages (from kagglehub) (25.0)\n",
            "Requirement already satisfied: pyyaml in /usr/local/lib/python3.12/dist-packages (from kagglehub) (6.0.3)\n",
            "Requirement already satisfied: requests in /usr/local/lib/python3.12/dist-packages (from kagglehub) (2.32.4)\n",
            "Requirement already satisfied: tqdm in /usr/local/lib/python3.12/dist-packages (from kagglehub) (4.67.1)\n",
            "Requirement already satisfied: charset_normalizer<4,>=2 in /usr/local/lib/python3.12/dist-packages (from requests->kagglehub) (3.4.4)\n",
            "Requirement already satisfied: idna<4,>=2.5 in /usr/local/lib/python3.12/dist-packages (from requests->kagglehub) (3.11)\n",
            "Requirement already satisfied: urllib3<3,>=1.21.1 in /usr/local/lib/python3.12/dist-packages (from requests->kagglehub) (2.5.0)\n",
            "Requirement already satisfied: certifi>=2017.4.17 in /usr/local/lib/python3.12/dist-packages (from requests->kagglehub) (2025.10.5)\n"
          ]
        }
      ]
    },
    {
      "cell_type": "code",
      "source": [
        "import kagglehub\n",
        "import os\n",
        "\n",
        "# Download latest version\n",
        "path = kagglehub.dataset_download(\"tunguz/online-retail\")\n",
        "\n",
        "print(\"Path to dataset files:\", path)\n",
        "df = pd.read_csv(path + '/' + os.listdir(path)[0], encoding='latin1')\n",
        "df.shape"
      ],
      "metadata": {
        "id": "nzm86qcTEXKO",
        "colab": {
          "base_uri": "https://localhost:8080/"
        },
        "outputId": "b83bcdcf-107c-4050-e002-bd4756ebae3f"
      },
      "execution_count": 3,
      "outputs": [
        {
          "output_type": "stream",
          "name": "stdout",
          "text": [
            "Using Colab cache for faster access to the 'online-retail' dataset.\n",
            "Path to dataset files: /kaggle/input/online-retail\n"
          ]
        },
        {
          "output_type": "execute_result",
          "data": {
            "text/plain": [
              "(541909, 8)"
            ]
          },
          "metadata": {},
          "execution_count": 3
        }
      ]
    },
    {
      "cell_type": "code",
      "source": [
        "df.head()"
      ],
      "metadata": {
        "id": "1a1z6CpsMVmm",
        "colab": {
          "base_uri": "https://localhost:8080/",
          "height": 362
        },
        "outputId": "be499252-cdc4-4ec6-aa55-a09062c166f5"
      },
      "execution_count": 4,
      "outputs": [
        {
          "output_type": "execute_result",
          "data": {
            "text/plain": [
              "  InvoiceNo StockCode                          Description  Quantity  \\\n",
              "0    536365    85123A   WHITE HANGING HEART T-LIGHT HOLDER         6   \n",
              "1    536365     71053                  WHITE METAL LANTERN         6   \n",
              "2    536365    84406B       CREAM CUPID HEARTS COAT HANGER         8   \n",
              "3    536365    84029G  KNITTED UNION FLAG HOT WATER BOTTLE         6   \n",
              "4    536365    84029E       RED WOOLLY HOTTIE WHITE HEART.         6   \n",
              "\n",
              "    InvoiceDate  UnitPrice  CustomerID         Country  \n",
              "0  12/1/10 8:26       2.55     17850.0  United Kingdom  \n",
              "1  12/1/10 8:26       3.39     17850.0  United Kingdom  \n",
              "2  12/1/10 8:26       2.75     17850.0  United Kingdom  \n",
              "3  12/1/10 8:26       3.39     17850.0  United Kingdom  \n",
              "4  12/1/10 8:26       3.39     17850.0  United Kingdom  "
            ],
            "text/html": [
              "\n",
              "  <div id=\"df-5d2a83ff-0844-45c3-8e43-7fc684b8591e\" class=\"colab-df-container\">\n",
              "    <div>\n",
              "<style scoped>\n",
              "    .dataframe tbody tr th:only-of-type {\n",
              "        vertical-align: middle;\n",
              "    }\n",
              "\n",
              "    .dataframe tbody tr th {\n",
              "        vertical-align: top;\n",
              "    }\n",
              "\n",
              "    .dataframe thead th {\n",
              "        text-align: right;\n",
              "    }\n",
              "</style>\n",
              "<table border=\"1\" class=\"dataframe\">\n",
              "  <thead>\n",
              "    <tr style=\"text-align: right;\">\n",
              "      <th></th>\n",
              "      <th>InvoiceNo</th>\n",
              "      <th>StockCode</th>\n",
              "      <th>Description</th>\n",
              "      <th>Quantity</th>\n",
              "      <th>InvoiceDate</th>\n",
              "      <th>UnitPrice</th>\n",
              "      <th>CustomerID</th>\n",
              "      <th>Country</th>\n",
              "    </tr>\n",
              "  </thead>\n",
              "  <tbody>\n",
              "    <tr>\n",
              "      <th>0</th>\n",
              "      <td>536365</td>\n",
              "      <td>85123A</td>\n",
              "      <td>WHITE HANGING HEART T-LIGHT HOLDER</td>\n",
              "      <td>6</td>\n",
              "      <td>12/1/10 8:26</td>\n",
              "      <td>2.55</td>\n",
              "      <td>17850.0</td>\n",
              "      <td>United Kingdom</td>\n",
              "    </tr>\n",
              "    <tr>\n",
              "      <th>1</th>\n",
              "      <td>536365</td>\n",
              "      <td>71053</td>\n",
              "      <td>WHITE METAL LANTERN</td>\n",
              "      <td>6</td>\n",
              "      <td>12/1/10 8:26</td>\n",
              "      <td>3.39</td>\n",
              "      <td>17850.0</td>\n",
              "      <td>United Kingdom</td>\n",
              "    </tr>\n",
              "    <tr>\n",
              "      <th>2</th>\n",
              "      <td>536365</td>\n",
              "      <td>84406B</td>\n",
              "      <td>CREAM CUPID HEARTS COAT HANGER</td>\n",
              "      <td>8</td>\n",
              "      <td>12/1/10 8:26</td>\n",
              "      <td>2.75</td>\n",
              "      <td>17850.0</td>\n",
              "      <td>United Kingdom</td>\n",
              "    </tr>\n",
              "    <tr>\n",
              "      <th>3</th>\n",
              "      <td>536365</td>\n",
              "      <td>84029G</td>\n",
              "      <td>KNITTED UNION FLAG HOT WATER BOTTLE</td>\n",
              "      <td>6</td>\n",
              "      <td>12/1/10 8:26</td>\n",
              "      <td>3.39</td>\n",
              "      <td>17850.0</td>\n",
              "      <td>United Kingdom</td>\n",
              "    </tr>\n",
              "    <tr>\n",
              "      <th>4</th>\n",
              "      <td>536365</td>\n",
              "      <td>84029E</td>\n",
              "      <td>RED WOOLLY HOTTIE WHITE HEART.</td>\n",
              "      <td>6</td>\n",
              "      <td>12/1/10 8:26</td>\n",
              "      <td>3.39</td>\n",
              "      <td>17850.0</td>\n",
              "      <td>United Kingdom</td>\n",
              "    </tr>\n",
              "  </tbody>\n",
              "</table>\n",
              "</div>\n",
              "    <div class=\"colab-df-buttons\">\n",
              "\n",
              "  <div class=\"colab-df-container\">\n",
              "    <button class=\"colab-df-convert\" onclick=\"convertToInteractive('df-5d2a83ff-0844-45c3-8e43-7fc684b8591e')\"\n",
              "            title=\"Convert this dataframe to an interactive table.\"\n",
              "            style=\"display:none;\">\n",
              "\n",
              "  <svg xmlns=\"http://www.w3.org/2000/svg\" height=\"24px\" viewBox=\"0 -960 960 960\">\n",
              "    <path d=\"M120-120v-720h720v720H120Zm60-500h600v-160H180v160Zm220 220h160v-160H400v160Zm0 220h160v-160H400v160ZM180-400h160v-160H180v160Zm440 0h160v-160H620v160ZM180-180h160v-160H180v160Zm440 0h160v-160H620v160Z\"/>\n",
              "  </svg>\n",
              "    </button>\n",
              "\n",
              "  <style>\n",
              "    .colab-df-container {\n",
              "      display:flex;\n",
              "      gap: 12px;\n",
              "    }\n",
              "\n",
              "    .colab-df-convert {\n",
              "      background-color: #E8F0FE;\n",
              "      border: none;\n",
              "      border-radius: 50%;\n",
              "      cursor: pointer;\n",
              "      display: none;\n",
              "      fill: #1967D2;\n",
              "      height: 32px;\n",
              "      padding: 0 0 0 0;\n",
              "      width: 32px;\n",
              "    }\n",
              "\n",
              "    .colab-df-convert:hover {\n",
              "      background-color: #E2EBFA;\n",
              "      box-shadow: 0px 1px 2px rgba(60, 64, 67, 0.3), 0px 1px 3px 1px rgba(60, 64, 67, 0.15);\n",
              "      fill: #174EA6;\n",
              "    }\n",
              "\n",
              "    .colab-df-buttons div {\n",
              "      margin-bottom: 4px;\n",
              "    }\n",
              "\n",
              "    [theme=dark] .colab-df-convert {\n",
              "      background-color: #3B4455;\n",
              "      fill: #D2E3FC;\n",
              "    }\n",
              "\n",
              "    [theme=dark] .colab-df-convert:hover {\n",
              "      background-color: #434B5C;\n",
              "      box-shadow: 0px 1px 3px 1px rgba(0, 0, 0, 0.15);\n",
              "      filter: drop-shadow(0px 1px 2px rgba(0, 0, 0, 0.3));\n",
              "      fill: #FFFFFF;\n",
              "    }\n",
              "  </style>\n",
              "\n",
              "    <script>\n",
              "      const buttonEl =\n",
              "        document.querySelector('#df-5d2a83ff-0844-45c3-8e43-7fc684b8591e button.colab-df-convert');\n",
              "      buttonEl.style.display =\n",
              "        google.colab.kernel.accessAllowed ? 'block' : 'none';\n",
              "\n",
              "      async function convertToInteractive(key) {\n",
              "        const element = document.querySelector('#df-5d2a83ff-0844-45c3-8e43-7fc684b8591e');\n",
              "        const dataTable =\n",
              "          await google.colab.kernel.invokeFunction('convertToInteractive',\n",
              "                                                    [key], {});\n",
              "        if (!dataTable) return;\n",
              "\n",
              "        const docLinkHtml = 'Like what you see? Visit the ' +\n",
              "          '<a target=\"_blank\" href=https://colab.research.google.com/notebooks/data_table.ipynb>data table notebook</a>'\n",
              "          + ' to learn more about interactive tables.';\n",
              "        element.innerHTML = '';\n",
              "        dataTable['output_type'] = 'display_data';\n",
              "        await google.colab.output.renderOutput(dataTable, element);\n",
              "        const docLink = document.createElement('div');\n",
              "        docLink.innerHTML = docLinkHtml;\n",
              "        element.appendChild(docLink);\n",
              "      }\n",
              "    </script>\n",
              "  </div>\n",
              "\n",
              "\n",
              "    <div id=\"df-89361d75-1b75-464a-bc43-0c414cf17ac6\">\n",
              "      <button class=\"colab-df-quickchart\" onclick=\"quickchart('df-89361d75-1b75-464a-bc43-0c414cf17ac6')\"\n",
              "                title=\"Suggest charts\"\n",
              "                style=\"display:none;\">\n",
              "\n",
              "<svg xmlns=\"http://www.w3.org/2000/svg\" height=\"24px\"viewBox=\"0 0 24 24\"\n",
              "     width=\"24px\">\n",
              "    <g>\n",
              "        <path d=\"M19 3H5c-1.1 0-2 .9-2 2v14c0 1.1.9 2 2 2h14c1.1 0 2-.9 2-2V5c0-1.1-.9-2-2-2zM9 17H7v-7h2v7zm4 0h-2V7h2v10zm4 0h-2v-4h2v4z\"/>\n",
              "    </g>\n",
              "</svg>\n",
              "      </button>\n",
              "\n",
              "<style>\n",
              "  .colab-df-quickchart {\n",
              "      --bg-color: #E8F0FE;\n",
              "      --fill-color: #1967D2;\n",
              "      --hover-bg-color: #E2EBFA;\n",
              "      --hover-fill-color: #174EA6;\n",
              "      --disabled-fill-color: #AAA;\n",
              "      --disabled-bg-color: #DDD;\n",
              "  }\n",
              "\n",
              "  [theme=dark] .colab-df-quickchart {\n",
              "      --bg-color: #3B4455;\n",
              "      --fill-color: #D2E3FC;\n",
              "      --hover-bg-color: #434B5C;\n",
              "      --hover-fill-color: #FFFFFF;\n",
              "      --disabled-bg-color: #3B4455;\n",
              "      --disabled-fill-color: #666;\n",
              "  }\n",
              "\n",
              "  .colab-df-quickchart {\n",
              "    background-color: var(--bg-color);\n",
              "    border: none;\n",
              "    border-radius: 50%;\n",
              "    cursor: pointer;\n",
              "    display: none;\n",
              "    fill: var(--fill-color);\n",
              "    height: 32px;\n",
              "    padding: 0;\n",
              "    width: 32px;\n",
              "  }\n",
              "\n",
              "  .colab-df-quickchart:hover {\n",
              "    background-color: var(--hover-bg-color);\n",
              "    box-shadow: 0 1px 2px rgba(60, 64, 67, 0.3), 0 1px 3px 1px rgba(60, 64, 67, 0.15);\n",
              "    fill: var(--button-hover-fill-color);\n",
              "  }\n",
              "\n",
              "  .colab-df-quickchart-complete:disabled,\n",
              "  .colab-df-quickchart-complete:disabled:hover {\n",
              "    background-color: var(--disabled-bg-color);\n",
              "    fill: var(--disabled-fill-color);\n",
              "    box-shadow: none;\n",
              "  }\n",
              "\n",
              "  .colab-df-spinner {\n",
              "    border: 2px solid var(--fill-color);\n",
              "    border-color: transparent;\n",
              "    border-bottom-color: var(--fill-color);\n",
              "    animation:\n",
              "      spin 1s steps(1) infinite;\n",
              "  }\n",
              "\n",
              "  @keyframes spin {\n",
              "    0% {\n",
              "      border-color: transparent;\n",
              "      border-bottom-color: var(--fill-color);\n",
              "      border-left-color: var(--fill-color);\n",
              "    }\n",
              "    20% {\n",
              "      border-color: transparent;\n",
              "      border-left-color: var(--fill-color);\n",
              "      border-top-color: var(--fill-color);\n",
              "    }\n",
              "    30% {\n",
              "      border-color: transparent;\n",
              "      border-left-color: var(--fill-color);\n",
              "      border-top-color: var(--fill-color);\n",
              "      border-right-color: var(--fill-color);\n",
              "    }\n",
              "    40% {\n",
              "      border-color: transparent;\n",
              "      border-right-color: var(--fill-color);\n",
              "      border-top-color: var(--fill-color);\n",
              "    }\n",
              "    60% {\n",
              "      border-color: transparent;\n",
              "      border-right-color: var(--fill-color);\n",
              "    }\n",
              "    80% {\n",
              "      border-color: transparent;\n",
              "      border-right-color: var(--fill-color);\n",
              "      border-bottom-color: var(--fill-color);\n",
              "    }\n",
              "    90% {\n",
              "      border-color: transparent;\n",
              "      border-bottom-color: var(--fill-color);\n",
              "    }\n",
              "  }\n",
              "</style>\n",
              "\n",
              "      <script>\n",
              "        async function quickchart(key) {\n",
              "          const quickchartButtonEl =\n",
              "            document.querySelector('#' + key + ' button');\n",
              "          quickchartButtonEl.disabled = true;  // To prevent multiple clicks.\n",
              "          quickchartButtonEl.classList.add('colab-df-spinner');\n",
              "          try {\n",
              "            const charts = await google.colab.kernel.invokeFunction(\n",
              "                'suggestCharts', [key], {});\n",
              "          } catch (error) {\n",
              "            console.error('Error during call to suggestCharts:', error);\n",
              "          }\n",
              "          quickchartButtonEl.classList.remove('colab-df-spinner');\n",
              "          quickchartButtonEl.classList.add('colab-df-quickchart-complete');\n",
              "        }\n",
              "        (() => {\n",
              "          let quickchartButtonEl =\n",
              "            document.querySelector('#df-89361d75-1b75-464a-bc43-0c414cf17ac6 button');\n",
              "          quickchartButtonEl.style.display =\n",
              "            google.colab.kernel.accessAllowed ? 'block' : 'none';\n",
              "        })();\n",
              "      </script>\n",
              "    </div>\n",
              "\n",
              "    </div>\n",
              "  </div>\n"
            ],
            "application/vnd.google.colaboratory.intrinsic+json": {
              "type": "dataframe",
              "variable_name": "df"
            }
          },
          "metadata": {},
          "execution_count": 4
        }
      ]
    },
    {
      "cell_type": "code",
      "source": [
        "df.info()"
      ],
      "metadata": {
        "id": "L0HBCqRrKnx4",
        "colab": {
          "base_uri": "https://localhost:8080/"
        },
        "outputId": "7e8ef04d-7d28-4c27-e07c-4b871e67f077"
      },
      "execution_count": 5,
      "outputs": [
        {
          "output_type": "stream",
          "name": "stdout",
          "text": [
            "<class 'pandas.core.frame.DataFrame'>\n",
            "RangeIndex: 541909 entries, 0 to 541908\n",
            "Data columns (total 8 columns):\n",
            " #   Column       Non-Null Count   Dtype  \n",
            "---  ------       --------------   -----  \n",
            " 0   InvoiceNo    541909 non-null  object \n",
            " 1   StockCode    541909 non-null  object \n",
            " 2   Description  540455 non-null  object \n",
            " 3   Quantity     541909 non-null  int64  \n",
            " 4   InvoiceDate  541909 non-null  object \n",
            " 5   UnitPrice    541909 non-null  float64\n",
            " 6   CustomerID   406829 non-null  float64\n",
            " 7   Country      541909 non-null  object \n",
            "dtypes: float64(2), int64(1), object(5)\n",
            "memory usage: 33.1+ MB\n"
          ]
        }
      ]
    },
    {
      "cell_type": "code",
      "source": [
        "# 주문 가격 피쳐 생성\n",
        "df[\"TotalPrice\"] = df[\"Quantity\"] * df[\"UnitPrice\"]"
      ],
      "metadata": {
        "id": "9eMYZRXsMvDk"
      },
      "execution_count": 6,
      "outputs": []
    },
    {
      "cell_type": "code",
      "source": [
        "# 'InvoiceDate' 컬럼을 이용하여 주중과 주말을 구분\n",
        "df['InvoiceDate'] = pd.to_datetime(df['InvoiceDate'])\n",
        "df['DayOfWeek'] = df['InvoiceDate'].dt.dayofweek\n",
        "\n",
        "# 'InvoiceDate' 컬럼 이용하여 판매 월 추출\n",
        "df[\"InvoiceDate\"] = pd.to_datetime(df[\"InvoiceDate\"].astype(str))\n",
        "df[\"InvoiceMonth\"] = df[\"InvoiceDate\"].dt.month"
      ],
      "metadata": {
        "id": "Yjh3OImd9Yms",
        "colab": {
          "base_uri": "https://localhost:8080/"
        },
        "outputId": "4e195377-32c2-40ae-dbde-5c33d66a084c"
      },
      "execution_count": 7,
      "outputs": [
        {
          "output_type": "stream",
          "name": "stderr",
          "text": [
            "/tmp/ipython-input-3844768752.py:2: UserWarning: Could not infer format, so each element will be parsed individually, falling back to `dateutil`. To ensure parsing is consistent and as-expected, please specify a format.\n",
            "  df['InvoiceDate'] = pd.to_datetime(df['InvoiceDate'])\n"
          ]
        }
      ]
    },
    {
      "cell_type": "markdown",
      "source": [
        "## 1. 모집단과 표본 집단의 TotalPrice를 비교해 주세요.\n",
        "\n",
        "* 데이터셋에서 무작위로 1000개의 표본을 추출하세요.\n",
        "* 추출된 표본과 전체 데이터셋의 'TotalPrice'에 대해 평균과 표준편차를 비교해주세요.  \n",
        "* 중심극한정리를 사용해 모집단과 표본의 차이를 설명해주세요."
      ],
      "metadata": {
        "id": "JT3nUp9NMpGi"
      }
    },
    {
      "cell_type": "code",
      "source": [
        "# 시드 42에서 랜덤추출\n",
        "np.random.seed(42)\n",
        "sample_size = 1000\n",
        "sample_df = df.sample(n=sample_size, random_state=42)\n",
        "\n",
        "print(f\"전체 데이터셋 크기 : {len(df)}\")\n",
        "print(f\"표본 데이터셋 크기 : {len(sample_df)}\")"
      ],
      "metadata": {
        "id": "-VJd-zJU9qSR",
        "colab": {
          "base_uri": "https://localhost:8080/"
        },
        "outputId": "a6608ab2-b99d-436b-e94e-a67d95c9aed6"
      },
      "execution_count": 8,
      "outputs": [
        {
          "output_type": "stream",
          "name": "stdout",
          "text": [
            "전체 데이터셋 크기 : 541909\n",
            "표본 데이터셋 크기 : 1000\n"
          ]
        }
      ]
    },
    {
      "cell_type": "code",
      "source": [
        "df['TotalPrice'].describe()"
      ],
      "metadata": {
        "id": "ZauLBaxV9qJf",
        "colab": {
          "base_uri": "https://localhost:8080/",
          "height": 335
        },
        "outputId": "9c8ecbc7-afcf-4198-e765-93aa0d7f934b"
      },
      "execution_count": 9,
      "outputs": [
        {
          "output_type": "execute_result",
          "data": {
            "text/plain": [
              "count    541909.000000\n",
              "mean         17.987795\n",
              "std         378.810824\n",
              "min     -168469.600000\n",
              "25%           3.400000\n",
              "50%           9.750000\n",
              "75%          17.400000\n",
              "max      168469.600000\n",
              "Name: TotalPrice, dtype: float64"
            ],
            "text/html": [
              "<div>\n",
              "<style scoped>\n",
              "    .dataframe tbody tr th:only-of-type {\n",
              "        vertical-align: middle;\n",
              "    }\n",
              "\n",
              "    .dataframe tbody tr th {\n",
              "        vertical-align: top;\n",
              "    }\n",
              "\n",
              "    .dataframe thead th {\n",
              "        text-align: right;\n",
              "    }\n",
              "</style>\n",
              "<table border=\"1\" class=\"dataframe\">\n",
              "  <thead>\n",
              "    <tr style=\"text-align: right;\">\n",
              "      <th></th>\n",
              "      <th>TotalPrice</th>\n",
              "    </tr>\n",
              "  </thead>\n",
              "  <tbody>\n",
              "    <tr>\n",
              "      <th>count</th>\n",
              "      <td>541909.000000</td>\n",
              "    </tr>\n",
              "    <tr>\n",
              "      <th>mean</th>\n",
              "      <td>17.987795</td>\n",
              "    </tr>\n",
              "    <tr>\n",
              "      <th>std</th>\n",
              "      <td>378.810824</td>\n",
              "    </tr>\n",
              "    <tr>\n",
              "      <th>min</th>\n",
              "      <td>-168469.600000</td>\n",
              "    </tr>\n",
              "    <tr>\n",
              "      <th>25%</th>\n",
              "      <td>3.400000</td>\n",
              "    </tr>\n",
              "    <tr>\n",
              "      <th>50%</th>\n",
              "      <td>9.750000</td>\n",
              "    </tr>\n",
              "    <tr>\n",
              "      <th>75%</th>\n",
              "      <td>17.400000</td>\n",
              "    </tr>\n",
              "    <tr>\n",
              "      <th>max</th>\n",
              "      <td>168469.600000</td>\n",
              "    </tr>\n",
              "  </tbody>\n",
              "</table>\n",
              "</div><br><label><b>dtype:</b> float64</label>"
            ]
          },
          "metadata": {},
          "execution_count": 9
        }
      ]
    },
    {
      "cell_type": "code",
      "source": [
        "sample_df['TotalPrice'].describe()"
      ],
      "metadata": {
        "colab": {
          "base_uri": "https://localhost:8080/",
          "height": 335
        },
        "id": "GyukTzU-v87V",
        "outputId": "91192722-7e97-4a0b-def4-64eef24cc4ae"
      },
      "execution_count": 10,
      "outputs": [
        {
          "output_type": "execute_result",
          "data": {
            "text/plain": [
              "count    1000.000000\n",
              "mean       16.832070\n",
              "std        64.467328\n",
              "min      -222.750000\n",
              "25%         3.750000\n",
              "50%         9.615000\n",
              "75%        17.700000\n",
              "max      1790.000000\n",
              "Name: TotalPrice, dtype: float64"
            ],
            "text/html": [
              "<div>\n",
              "<style scoped>\n",
              "    .dataframe tbody tr th:only-of-type {\n",
              "        vertical-align: middle;\n",
              "    }\n",
              "\n",
              "    .dataframe tbody tr th {\n",
              "        vertical-align: top;\n",
              "    }\n",
              "\n",
              "    .dataframe thead th {\n",
              "        text-align: right;\n",
              "    }\n",
              "</style>\n",
              "<table border=\"1\" class=\"dataframe\">\n",
              "  <thead>\n",
              "    <tr style=\"text-align: right;\">\n",
              "      <th></th>\n",
              "      <th>TotalPrice</th>\n",
              "    </tr>\n",
              "  </thead>\n",
              "  <tbody>\n",
              "    <tr>\n",
              "      <th>count</th>\n",
              "      <td>1000.000000</td>\n",
              "    </tr>\n",
              "    <tr>\n",
              "      <th>mean</th>\n",
              "      <td>16.832070</td>\n",
              "    </tr>\n",
              "    <tr>\n",
              "      <th>std</th>\n",
              "      <td>64.467328</td>\n",
              "    </tr>\n",
              "    <tr>\n",
              "      <th>min</th>\n",
              "      <td>-222.750000</td>\n",
              "    </tr>\n",
              "    <tr>\n",
              "      <th>25%</th>\n",
              "      <td>3.750000</td>\n",
              "    </tr>\n",
              "    <tr>\n",
              "      <th>50%</th>\n",
              "      <td>9.615000</td>\n",
              "    </tr>\n",
              "    <tr>\n",
              "      <th>75%</th>\n",
              "      <td>17.700000</td>\n",
              "    </tr>\n",
              "    <tr>\n",
              "      <th>max</th>\n",
              "      <td>1790.000000</td>\n",
              "    </tr>\n",
              "  </tbody>\n",
              "</table>\n",
              "</div><br><label><b>dtype:</b> float64</label>"
            ]
          },
          "metadata": {},
          "execution_count": 10
        }
      ]
    },
    {
      "cell_type": "code",
      "source": [
        "# --- sample_df['TotalPrice'] 히스토그램 ---\n",
        "\n",
        "plt.figure(figsize=(10, 6))\n",
        "\n",
        "# 히스토그램 그리기\n",
        "sns.histplot(\n",
        "    sample_df['TotalPrice'],\n",
        "    kde=True,      # Kernel Density Estimate (밀도 곡선)\n",
        "    color='blue',\n",
        "    alpha=0.7\n",
        ")\n",
        "\n",
        "plt.title('Distribution of TotalPrice in sample_df')\n",
        "plt.xlabel('TotalPrice')\n",
        "plt.ylabel('Frequency')\n",
        "plt.grid(True, linestyle='--', alpha=0.6)\n",
        "\n",
        "plt.show()"
      ],
      "metadata": {
        "colab": {
          "base_uri": "https://localhost:8080/",
          "height": 564
        },
        "id": "SqS1dWHXX-VJ",
        "outputId": "cea6c695-5f46-404c-d865-71c1cb63a2aa"
      },
      "execution_count": 11,
      "outputs": [
        {
          "output_type": "display_data",
          "data": {
            "text/plain": [
              "<Figure size 1000x600 with 1 Axes>"
            ],
            "image/png": "[encoded data removed]"
          },
          "metadata": {}
        }
      ]
    },
    {
      "cell_type": "code",
      "source": [
        "# 중심극한 정리 n=30으로 1000번씩 표본추출\n",
        "np.random.seed(42)\n",
        "sample_means = []\n",
        "n_samples = 1000\n",
        "sample_size_clt = 30\n",
        "\n",
        "for _ in range(n_samples):\n",
        "    sample = df['TotalPrice'].sample(n=sample_size_clt, replace=True)\n",
        "    # 표본 평균 계산\n",
        "    sample_means.append(sample.mean())\n",
        "\n",
        "sample_means_df = pd.DataFrame({'SampleMean': sample_means})\n",
        "\n",
        "clt_mean = sample_means_df['SampleMean'].mean()\n",
        "clt_std = sample_means_df['SampleMean'].std()\n",
        "\n",
        "print(f\" 모집단 평균 : {df['TotalPrice'].mean():.2f}\")\n",
        "print(f\" 표본 평균들의 평균: {clt_mean:.2f}\")\n",
        "print(\"---\")\n",
        "print(f\" 모집단 표준편차 : {df['TotalPrice'].std():.2f}\")\n",
        "pop_std = df['TotalPrice'].std()\n",
        "se = pop_std / np.sqrt(sample_size_clt)\n",
        "print(f\" 표본 평균들의 실제 표준편차 (CLT std): {clt_std:.2f}\")\n",
        "print(f\" 표본 평균의 이론적 표준 오차 (SE): {se:.2f}\")"
      ],
      "metadata": {
        "colab": {
          "base_uri": "https://localhost:8080/"
        },
        "id": "bTyFiUX2v9yh",
        "outputId": "c527f166-9ebe-4caa-b43f-08728ea416b8"
      },
      "execution_count": 12,
      "outputs": [
        {
          "output_type": "stream",
          "name": "stdout",
          "text": [
            " 모집단 평균 : 17.99\n",
            " 표본 평균들의 평균: 18.15\n",
            "---\n",
            " 모집단 표준편차 : 378.81\n",
            " 표본 평균들의 실제 표준편차 (CLT std): 18.07\n",
            " 표본 평균의 이론적 표준 오차 (SE): 69.16\n"
          ]
        }
      ]
    },
    {
      "cell_type": "code",
      "source": [
        "plt.figure(figsize=(10, 6))\n",
        "sns.histplot(sample_means_df['SampleMean'], kde=True, bins=50)\n",
        "plt.axvline(df['TotalPrice'].mean(), color='red', linestyle='dashed', linewidth=2, label=f'Population Mean (μ={df[\"TotalPrice\"].mean():.2f})')\n",
        "plt.axvline(clt_mean, color='green', linestyle='dashed', linewidth=2, label=f'Sample Means Mean ({clt_mean:.2f})')\n",
        "\n",
        "plt.title(f'Distribution of Sample Means (n={sample_size_clt}, Repeats={n_samples})')\n",
        "plt.xlabel('Sample Mean of TotalPrice')\n",
        "plt.ylabel('Frequency')\n",
        "plt.legend()\n",
        "plt.show()"
      ],
      "metadata": {
        "colab": {
          "base_uri": "https://localhost:8080/",
          "height": 564
        },
        "id": "UecP889vv-jU",
        "outputId": "7932534b-6058-4850-c2ce-b6a49b0e719d"
      },
      "execution_count": 13,
      "outputs": [
        {
          "output_type": "display_data",
          "data": {
            "text/plain": [
              "<Figure size 1000x600 with 1 Axes>"
            ],
            "image/png": "[encoded data removed]"
          },
          "metadata": {}
        }
      ]
    },
    {
      "cell_type": "markdown",
      "source": [
        "모집단 : 극도로 비대칭(우측으로 꼬리가 김) 비정규적 형태\n",
        "\n",
        "표본(n=1000) : 0 근처에 집중된 분포\n",
        "\n",
        "중심극한정리 적용 표본 : 정규분포에 근접\n",
        "\n",
        "모집단 분포가 극도로 비정규적임에도 불구하고 30개씩 추출한 표본평균은 모평균에 매우 근접하며 정규적인 분포를 보여준다.\n"
      ],
      "metadata": {
        "id": "unYJD-ozU4ie"
      }
    },
    {
      "cell_type": "markdown",
      "source": [
        "## 2. 주문이 가장 많은 상위 두 국가의 'TotalPrice' 평균에 차이가 있는지 검증하세요.\n",
        "\n",
        "* 'Country' 변수를 바탕으로 주문이 가장 많은 상위 두 국가를 찾으세요.\n",
        "* 독립표본 t-검정을 사용하여 두 국가 간 'TotalPrice' 평균의 차이가 통계적으로 유의미한지 검증하세요.  \n",
        "* t-통계량과 p-값을 해석하여 결과를 설명하고, 1종 오류와 2종 오류의 개념을 적용하여 설명해주세요."
      ],
      "metadata": {
        "id": "dvTXhGBpNG2E"
      }
    },
    {
      "cell_type": "code",
      "source": [
        "df.isna().sum()"
      ],
      "metadata": {
        "id": "ffgl-6Kk9rrO",
        "colab": {
          "base_uri": "https://localhost:8080/",
          "height": 429
        },
        "outputId": "00e7cd45-1fc1-43fb-b8de-235d3bd40a5a"
      },
      "execution_count": 14,
      "outputs": [
        {
          "output_type": "execute_result",
          "data": {
            "text/plain": [
              "InvoiceNo            0\n",
              "StockCode            0\n",
              "Description       1454\n",
              "Quantity             0\n",
              "InvoiceDate          0\n",
              "UnitPrice            0\n",
              "CustomerID      135080\n",
              "Country              0\n",
              "TotalPrice           0\n",
              "DayOfWeek            0\n",
              "InvoiceMonth         0\n",
              "dtype: int64"
            ],
            "text/html": [
              "<div>\n",
              "<style scoped>\n",
              "    .dataframe tbody tr th:only-of-type {\n",
              "        vertical-align: middle;\n",
              "    }\n",
              "\n",
              "    .dataframe tbody tr th {\n",
              "        vertical-align: top;\n",
              "    }\n",
              "\n",
              "    .dataframe thead th {\n",
              "        text-align: right;\n",
              "    }\n",
              "</style>\n",
              "<table border=\"1\" class=\"dataframe\">\n",
              "  <thead>\n",
              "    <tr style=\"text-align: right;\">\n",
              "      <th></th>\n",
              "      <th>0</th>\n",
              "    </tr>\n",
              "  </thead>\n",
              "  <tbody>\n",
              "    <tr>\n",
              "      <th>InvoiceNo</th>\n",
              "      <td>0</td>\n",
              "    </tr>\n",
              "    <tr>\n",
              "      <th>StockCode</th>\n",
              "      <td>0</td>\n",
              "    </tr>\n",
              "    <tr>\n",
              "      <th>Description</th>\n",
              "      <td>1454</td>\n",
              "    </tr>\n",
              "    <tr>\n",
              "      <th>Quantity</th>\n",
              "      <td>0</td>\n",
              "    </tr>\n",
              "    <tr>\n",
              "      <th>InvoiceDate</th>\n",
              "      <td>0</td>\n",
              "    </tr>\n",
              "    <tr>\n",
              "      <th>UnitPrice</th>\n",
              "      <td>0</td>\n",
              "    </tr>\n",
              "    <tr>\n",
              "      <th>CustomerID</th>\n",
              "      <td>135080</td>\n",
              "    </tr>\n",
              "    <tr>\n",
              "      <th>Country</th>\n",
              "      <td>0</td>\n",
              "    </tr>\n",
              "    <tr>\n",
              "      <th>TotalPrice</th>\n",
              "      <td>0</td>\n",
              "    </tr>\n",
              "    <tr>\n",
              "      <th>DayOfWeek</th>\n",
              "      <td>0</td>\n",
              "    </tr>\n",
              "    <tr>\n",
              "      <th>InvoiceMonth</th>\n",
              "      <td>0</td>\n",
              "    </tr>\n",
              "  </tbody>\n",
              "</table>\n",
              "</div><br><label><b>dtype:</b> int64</label>"
            ]
          },
          "metadata": {},
          "execution_count": 14
        }
      ]
    },
    {
      "cell_type": "code",
      "source": [
        "country_counts = df['Country'].value_counts()\n",
        "top_countries = country_counts.head(2)\n",
        "top_countries"
      ],
      "metadata": {
        "colab": {
          "base_uri": "https://localhost:8080/",
          "height": 178
        },
        "id": "iyVlvQDUv7VD",
        "outputId": "1cc042ad-ce52-4bbd-a351-0101ad1f7c83"
      },
      "execution_count": 15,
      "outputs": [
        {
          "output_type": "execute_result",
          "data": {
            "text/plain": [
              "Country\n",
              "United Kingdom    495478\n",
              "Germany             9495\n",
              "Name: count, dtype: int64"
            ],
            "text/html": [
              "<div>\n",
              "<style scoped>\n",
              "    .dataframe tbody tr th:only-of-type {\n",
              "        vertical-align: middle;\n",
              "    }\n",
              "\n",
              "    .dataframe tbody tr th {\n",
              "        vertical-align: top;\n",
              "    }\n",
              "\n",
              "    .dataframe thead th {\n",
              "        text-align: right;\n",
              "    }\n",
              "</style>\n",
              "<table border=\"1\" class=\"dataframe\">\n",
              "  <thead>\n",
              "    <tr style=\"text-align: right;\">\n",
              "      <th></th>\n",
              "      <th>count</th>\n",
              "    </tr>\n",
              "    <tr>\n",
              "      <th>Country</th>\n",
              "      <th></th>\n",
              "    </tr>\n",
              "  </thead>\n",
              "  <tbody>\n",
              "    <tr>\n",
              "      <th>United Kingdom</th>\n",
              "      <td>495478</td>\n",
              "    </tr>\n",
              "    <tr>\n",
              "      <th>Germany</th>\n",
              "      <td>9495</td>\n",
              "    </tr>\n",
              "  </tbody>\n",
              "</table>\n",
              "</div><br><label><b>dtype:</b> int64</label>"
            ]
          },
          "metadata": {},
          "execution_count": 15
        }
      ]
    },
    {
      "cell_type": "code",
      "source": [
        "# 독립표본 t검정\n",
        "from scipy import stats\n",
        "from scipy.stats import norm"
      ],
      "metadata": {
        "id": "u6_sAj5Y2Q91"
      },
      "execution_count": 16,
      "outputs": []
    },
    {
      "cell_type": "markdown",
      "source": [
        "귀무가설 : 두 집단의 평균이 같다\n",
        "\n",
        "대립가설 : 두 집단의 평균이 다르다"
      ],
      "metadata": {
        "id": "2iRGdrFS4B_0"
      }
    },
    {
      "cell_type": "code",
      "source": [
        "# 상위 두 국가 확인\n",
        "country_counts = df['Country'].value_counts()\n",
        "top_countries = country_counts.head(2)\n",
        "\n",
        "country_1 = top_countries.index[0]\n",
        "country_2 = top_countries.index[1]\n",
        "\n",
        "group_1 = df[df['Country'] == country_1]['TotalPrice'].dropna()\n",
        "group_2 = df[df['Country'] == country_2]['TotalPrice'].dropna()"
      ],
      "metadata": {
        "id": "vZX3sblGybY7"
      },
      "execution_count": 17,
      "outputs": []
    },
    {
      "cell_type": "code",
      "source": [
        "# 정규성 검사 먼저 실행\n",
        "def run_shapiro(data, name):\n",
        "    if len(data) > 5000:\n",
        "        data_sample = data.sample(n=5000, random_state=42)\n",
        "    else:\n",
        "        data_sample = data\n",
        "\n",
        "    stat, p = stats.shapiro(data_sample)\n",
        "    print(f\"\\n--- 정규성 검정 결과 ({name}) ---\")\n",
        "    print(f\"Shapiro-Wilk 통계량: {stat:.4f}\")\n",
        "    print(f\"P-값: {p:.4f}\")\n",
        "\n",
        "    if p < 0.05:\n",
        "        print(\"결론: P-값이 0.05보다 작으므로, 귀무가설을 기각합니다. -> **정규분포를 따르지 않습니다.**\")\n",
        "    else:\n",
        "        print(\"결론: P-값이 0.05보다 크므로, 귀무가설을 기각할 수 없습니다. -> 정규분포를 따른다고 볼 수 있습니다.\")\n",
        "\n",
        "run_shapiro(group_1, country_1)\n",
        "run_shapiro(group_2, country_2)"
      ],
      "metadata": {
        "colab": {
          "base_uri": "https://localhost:8080/"
        },
        "id": "SQjmjjDPyVwd",
        "outputId": "c50e32b3-4141-4f78-acf7-efeb70c52d80"
      },
      "execution_count": 18,
      "outputs": [
        {
          "output_type": "stream",
          "name": "stdout",
          "text": [
            "\n",
            "--- 정규성 검정 결과 (United Kingdom) ---\n",
            "Shapiro-Wilk 통계량: 0.1433\n",
            "P-값: 0.0000\n",
            "결론: P-값이 0.05보다 작으므로, 귀무가설을 기각합니다. -> **정규분포를 따르지 않습니다.**\n",
            "\n",
            "--- 정규성 검정 결과 (Germany) ---\n",
            "Shapiro-Wilk 통계량: 0.4172\n",
            "P-값: 0.0000\n",
            "결론: P-값이 0.05보다 작으므로, 귀무가설을 기각합니다. -> **정규분포를 따르지 않습니다.**\n"
          ]
        }
      ]
    },
    {
      "cell_type": "markdown",
      "source": [
        "정규성이 없으므로 Welch's t-test를 실행합니다.\n",
        "\n",
        "t-검정의 핵심 가정은 모집단의 분포가 정규분포를 따른다는 것입니다."
      ],
      "metadata": {
        "id": "SMnFgtGeGKuY"
      }
    },
    {
      "cell_type": "code",
      "source": [
        "# 1. 이탈 고객별 2개 그룹으로 데이터 분리\n",
        "df_UK = df[df['Country'] == 'United Kingdom']['TotalPrice']\n",
        "df_Ger = df[df['Country'] == 'Germany']['TotalPrice']\n",
        "\n",
        "# 2. 그룹별 MonthlyCharges 표본평균 계산\n",
        "print(f\"United Kindom 요금 평균: ${df_UK.mean():.2f}\")\n",
        "print(f\"Germany 요금 평균: ${df_Ger.mean():.2f}\")\n",
        "\n",
        "# 3. t-검정 수행\n",
        "t_stat_mc, p_val_mc = stats.ttest_ind(df_UK, df_Ger, equal_var=False)\n",
        "# stats.ttest_ind(): 독립된 두 표본의 평균 차이를 검정하는 함수\n",
        "# equal_var=False: 두 그룹의 모분산이 다르다고 가정(등분산이 아니다)하는 Welch's t-test 수행\n",
        "# 두 그룹의 분산이 같은지 여부를 미리 검증하지 않아도 되어서, 일반적인 데이터 분석에서 사용된다고 함\n",
        "\n",
        "print(f\"t-통계량: {t_stat_mc:.4f}\")\n",
        "print(f\"p-값: {p_val_mc:.4f}\")"
      ],
      "metadata": {
        "id": "UuN-1uRCNz_I",
        "colab": {
          "base_uri": "https://localhost:8080/"
        },
        "outputId": "73e6b616-ca0f-4c9a-dc43-d254d8fc4816"
      },
      "execution_count": 19,
      "outputs": [
        {
          "output_type": "stream",
          "name": "stdout",
          "text": [
            "United Kindom 요금 평균: $16.53\n",
            "Germany 요금 평균: $23.35\n",
            "t-통계량: -10.0464\n",
            "p-값: 0.0000\n"
          ]
        }
      ]
    },
    {
      "cell_type": "markdown",
      "source": [
        "p-값이 유의수준 0.05보다 작음.\n",
        "\n",
        "t 통계량의 절댓값이 임계값 1.96보다 매우 크다.\n",
        "귀무가설을 기각.\n",
        "독일 고객 평균 주문금액이 영국 고객보다 유의하게 높다."
      ],
      "metadata": {
        "id": "Z_axPDtP3zAC"
      }
    },
    {
      "cell_type": "markdown",
      "source": [
        "1종 오류 : 실제로는 두 국가의 평균에 차이가 없는데 **차이가 있다**고 잘못 결론 내림.\n",
        "이 오류를 나타낼 확률은 0.05이하. p값이 0.0000으로 매우 낮기 때문에 낮다.\n",
        "\n",
        "2종 오류 : 실제로는 두 국가 평균에 차이가 있는데 **차이가 없다**고 잘못 결론 내리는 오류\n",
        "이 오류는 위 검증에서 귀무가설을 기각했기 때문에 범하지 않음."
      ],
      "metadata": {
        "id": "T4hhfiJI5hK3"
      }
    },
    {
      "cell_type": "code",
      "source": [],
      "metadata": {
        "id": "NTVebqRv2QSP"
      },
      "execution_count": 19,
      "outputs": []
    },
    {
      "cell_type": "code",
      "source": [],
      "metadata": {
        "id": "I9pVPTkl2P5a"
      },
      "execution_count": 19,
      "outputs": []
    },
    {
      "cell_type": "markdown",
      "source": [
        "## 3. 주중, 주말에 따라서 발생하는 UnitPrice의 분포가 달라지는지 확인하세요.\n",
        "\n",
        "* 주중의 'UnitPrice'와 주말의 'UnitPrice'의 분포를 분석하기 위해 데이터의 중심경향치(평균, 중간값), 변산성(표준편차, 분산), 분위수를 계산하세요.  \n",
        "* 상자수염그림과 히스토그램을 그려 시각화를 통해 분포를 확인하고 데이터의 분포에 대해 설명해주세요."
      ],
      "metadata": {
        "id": "yWpUgBedN0PK"
      }
    },
    {
      "cell_type": "code",
      "source": [
        "df"
      ],
      "metadata": {
        "id": "rAMuPWXh9uAN",
        "colab": {
          "base_uri": "https://localhost:8080/",
          "height": 842
        },
        "outputId": "90f9bc58-bb13-4416-df49-e1eab7e944ad"
      },
      "execution_count": 20,
      "outputs": [
        {
          "output_type": "execute_result",
          "data": {
            "text/plain": [
              "       InvoiceNo StockCode                          Description  Quantity  \\\n",
              "0         536365    85123A   WHITE HANGING HEART T-LIGHT HOLDER         6   \n",
              "1         536365     71053                  WHITE METAL LANTERN         6   \n",
              "2         536365    84406B       CREAM CUPID HEARTS COAT HANGER         8   \n",
              "3         536365    84029G  KNITTED UNION FLAG HOT WATER BOTTLE         6   \n",
              "4         536365    84029E       RED WOOLLY HOTTIE WHITE HEART.         6   \n",
              "...          ...       ...                                  ...       ...   \n",
              "541904    581587     22613          PACK OF 20 SPACEBOY NAPKINS        12   \n",
              "541905    581587     22899         CHILDREN'S APRON DOLLY GIRL          6   \n",
              "541906    581587     23254        CHILDRENS CUTLERY DOLLY GIRL          4   \n",
              "541907    581587     23255      CHILDRENS CUTLERY CIRCUS PARADE         4   \n",
              "541908    581587     22138        BAKING SET 9 PIECE RETROSPOT          3   \n",
              "\n",
              "               InvoiceDate  UnitPrice  CustomerID         Country  TotalPrice  \\\n",
              "0      2010-12-01 08:26:00       2.55     17850.0  United Kingdom       15.30   \n",
              "1      2010-12-01 08:26:00       3.39     17850.0  United Kingdom       20.34   \n",
              "2      2010-12-01 08:26:00       2.75     17850.0  United Kingdom       22.00   \n",
              "3      2010-12-01 08:26:00       3.39     17850.0  United Kingdom       20.34   \n",
              "4      2010-12-01 08:26:00       3.39     17850.0  United Kingdom       20.34   \n",
              "...                    ...        ...         ...             ...         ...   \n",
              "541904 2011-12-09 12:50:00       0.85     12680.0          France       10.20   \n",
              "541905 2011-12-09 12:50:00       2.10     12680.0          France       12.60   \n",
              "541906 2011-12-09 12:50:00       4.15     12680.0          France       16.60   \n",
              "541907 2011-12-09 12:50:00       4.15     12680.0          France       16.60   \n",
              "541908 2011-12-09 12:50:00       4.95     12680.0          France       14.85   \n",
              "\n",
              "        DayOfWeek  InvoiceMonth  \n",
              "0               2            12  \n",
              "1               2            12  \n",
              "2               2            12  \n",
              "3               2            12  \n",
              "4               2            12  \n",
              "...           ...           ...  \n",
              "541904          4            12  \n",
              "541905          4            12  \n",
              "541906          4            12  \n",
              "541907          4            12  \n",
              "541908          4            12  \n",
              "\n",
              "[541909 rows x 11 columns]"
            ],
            "text/html": [
              "\n",
              "  <div id=\"df-50c4068b-c796-4a03-9413-e3726423037c\" class=\"colab-df-container\">\n",
              "    <div>\n",
              "<style scoped>\n",
              "    .dataframe tbody tr th:only-of-type {\n",
              "        vertical-align: middle;\n",
              "    }\n",
              "\n",
              "    .dataframe tbody tr th {\n",
              "        vertical-align: top;\n",
              "    }\n",
              "\n",
              "    .dataframe thead th {\n",
              "        text-align: right;\n",
              "    }\n",
              "</style>\n",
              "<table border=\"1\" class=\"dataframe\">\n",
              "  <thead>\n",
              "    <tr style=\"text-align: right;\">\n",
              "      <th></th>\n",
              "      <th>InvoiceNo</th>\n",
              "      <th>StockCode</th>\n",
              "      <th>Description</th>\n",
              "      <th>Quantity</th>\n",
              "      <th>InvoiceDate</th>\n",
              "      <th>UnitPrice</th>\n",
              "      <th>CustomerID</th>\n",
              "      <th>Country</th>\n",
              "      <th>TotalPrice</th>\n",
              "      <th>DayOfWeek</th>\n",
              "      <th>InvoiceMonth</th>\n",
              "    </tr>\n",
              "  </thead>\n",
              "  <tbody>\n",
              "    <tr>\n",
              "      <th>0</th>\n",
              "      <td>536365</td>\n",
              "      <td>85123A</td>\n",
              "      <td>WHITE HANGING HEART T-LIGHT HOLDER</td>\n",
              "      <td>6</td>\n",
              "      <td>2010-12-01 08:26:00</td>\n",
              "      <td>2.55</td>\n",
              "      <td>17850.0</td>\n",
              "      <td>United Kingdom</td>\n",
              "      <td>15.30</td>\n",
              "      <td>2</td>\n",
              "      <td>12</td>\n",
              "    </tr>\n",
              "    <tr>\n",
              "      <th>1</th>\n",
              "      <td>536365</td>\n",
              "      <td>71053</td>\n",
              "      <td>WHITE METAL LANTERN</td>\n",
              "      <td>6</td>\n",
              "      <td>2010-12-01 08:26:00</td>\n",
              "      <td>3.39</td>\n",
              "      <td>17850.0</td>\n",
              "      <td>United Kingdom</td>\n",
              "      <td>20.34</td>\n",
              "      <td>2</td>\n",
              "      <td>12</td>\n",
              "    </tr>\n",
              "    <tr>\n",
              "      <th>2</th>\n",
              "      <td>536365</td>\n",
              "      <td>84406B</td>\n",
              "      <td>CREAM CUPID HEARTS COAT HANGER</td>\n",
              "      <td>8</td>\n",
              "      <td>2010-12-01 08:26:00</td>\n",
              "      <td>2.75</td>\n",
              "      <td>17850.0</td>\n",
              "      <td>United Kingdom</td>\n",
              "      <td>22.00</td>\n",
              "      <td>2</td>\n",
              "      <td>12</td>\n",
              "    </tr>\n",
              "    <tr>\n",
              "      <th>3</th>\n",
              "      <td>536365</td>\n",
              "      <td>84029G</td>\n",
              "      <td>KNITTED UNION FLAG HOT WATER BOTTLE</td>\n",
              "      <td>6</td>\n",
              "      <td>2010-12-01 08:26:00</td>\n",
              "      <td>3.39</td>\n",
              "      <td>17850.0</td>\n",
              "      <td>United Kingdom</td>\n",
              "      <td>20.34</td>\n",
              "      <td>2</td>\n",
              "      <td>12</td>\n",
              "    </tr>\n",
              "    <tr>\n",
              "      <th>4</th>\n",
              "      <td>536365</td>\n",
              "      <td>84029E</td>\n",
              "      <td>RED WOOLLY HOTTIE WHITE HEART.</td>\n",
              "      <td>6</td>\n",
              "      <td>2010-12-01 08:26:00</td>\n",
              "      <td>3.39</td>\n",
              "      <td>17850.0</td>\n",
              "      <td>United Kingdom</td>\n",
              "      <td>20.34</td>\n",
              "      <td>2</td>\n",
              "      <td>12</td>\n",
              "    </tr>\n",
              "    <tr>\n",
              "      <th>...</th>\n",
              "      <td>...</td>\n",
              "      <td>...</td>\n",
              "      <td>...</td>\n",
              "      <td>...</td>\n",
              "      <td>...</td>\n",
              "      <td>...</td>\n",
              "      <td>...</td>\n",
              "      <td>...</td>\n",
              "      <td>...</td>\n",
              "      <td>...</td>\n",
              "      <td>...</td>\n",
              "    </tr>\n",
              "    <tr>\n",
              "      <th>541904</th>\n",
              "      <td>581587</td>\n",
              "      <td>22613</td>\n",
              "      <td>PACK OF 20 SPACEBOY NAPKINS</td>\n",
              "      <td>12</td>\n",
              "      <td>2011-12-09 12:50:00</td>\n",
              "      <td>0.85</td>\n",
              "      <td>12680.0</td>\n",
              "      <td>France</td>\n",
              "      <td>10.20</td>\n",
              "      <td>4</td>\n",
              "      <td>12</td>\n",
              "    </tr>\n",
              "    <tr>\n",
              "      <th>541905</th>\n",
              "      <td>581587</td>\n",
              "      <td>22899</td>\n",
              "      <td>CHILDREN'S APRON DOLLY GIRL</td>\n",
              "      <td>6</td>\n",
              "      <td>2011-12-09 12:50:00</td>\n",
              "      <td>2.10</td>\n",
              "      <td>12680.0</td>\n",
              "      <td>France</td>\n",
              "      <td>12.60</td>\n",
              "      <td>4</td>\n",
              "      <td>12</td>\n",
              "    </tr>\n",
              "    <tr>\n",
              "      <th>541906</th>\n",
              "      <td>581587</td>\n",
              "      <td>23254</td>\n",
              "      <td>CHILDRENS CUTLERY DOLLY GIRL</td>\n",
              "      <td>4</td>\n",
              "      <td>2011-12-09 12:50:00</td>\n",
              "      <td>4.15</td>\n",
              "      <td>12680.0</td>\n",
              "      <td>France</td>\n",
              "      <td>16.60</td>\n",
              "      <td>4</td>\n",
              "      <td>12</td>\n",
              "    </tr>\n",
              "    <tr>\n",
              "      <th>541907</th>\n",
              "      <td>581587</td>\n",
              "      <td>23255</td>\n",
              "      <td>CHILDRENS CUTLERY CIRCUS PARADE</td>\n",
              "      <td>4</td>\n",
              "      <td>2011-12-09 12:50:00</td>\n",
              "      <td>4.15</td>\n",
              "      <td>12680.0</td>\n",
              "      <td>France</td>\n",
              "      <td>16.60</td>\n",
              "      <td>4</td>\n",
              "      <td>12</td>\n",
              "    </tr>\n",
              "    <tr>\n",
              "      <th>541908</th>\n",
              "      <td>581587</td>\n",
              "      <td>22138</td>\n",
              "      <td>BAKING SET 9 PIECE RETROSPOT</td>\n",
              "      <td>3</td>\n",
              "      <td>2011-12-09 12:50:00</td>\n",
              "      <td>4.95</td>\n",
              "      <td>12680.0</td>\n",
              "      <td>France</td>\n",
              "      <td>14.85</td>\n",
              "      <td>4</td>\n",
              "      <td>12</td>\n",
              "    </tr>\n",
              "  </tbody>\n",
              "</table>\n",
              "<p>541909 rows × 11 columns</p>\n",
              "</div>\n",
              "    <div class=\"colab-df-buttons\">\n",
              "\n",
              "  <div class=\"colab-df-container\">\n",
              "    <button class=\"colab-df-convert\" onclick=\"convertToInteractive('df-50c4068b-c796-4a03-9413-e3726423037c')\"\n",
              "            title=\"Convert this dataframe to an interactive table.\"\n",
              "            style=\"display:none;\">\n",
              "\n",
              "  <svg xmlns=\"http://www.w3.org/2000/svg\" height=\"24px\" viewBox=\"0 -960 960 960\">\n",
              "    <path d=\"M120-120v-720h720v720H120Zm60-500h600v-160H180v160Zm220 220h160v-160H400v160Zm0 220h160v-160H400v160ZM180-400h160v-160H180v160Zm440 0h160v-160H620v160ZM180-180h160v-160H180v160Zm440 0h160v-160H620v160Z\"/>\n",
              "  </svg>\n",
              "    </button>\n",
              "\n",
              "  <style>\n",
              "    .colab-df-container {\n",
              "      display:flex;\n",
              "      gap: 12px;\n",
              "    }\n",
              "\n",
              "    .colab-df-convert {\n",
              "      background-color: #E8F0FE;\n",
              "      border: none;\n",
              "      border-radius: 50%;\n",
              "      cursor: pointer;\n",
              "      display: none;\n",
              "      fill: #1967D2;\n",
              "      height: 32px;\n",
              "      padding: 0 0 0 0;\n",
              "      width: 32px;\n",
              "    }\n",
              "\n",
              "    .colab-df-convert:hover {\n",
              "      background-color: #E2EBFA;\n",
              "      box-shadow: 0px 1px 2px rgba(60, 64, 67, 0.3), 0px 1px 3px 1px rgba(60, 64, 67, 0.15);\n",
              "      fill: #174EA6;\n",
              "    }\n",
              "\n",
              "    .colab-df-buttons div {\n",
              "      margin-bottom: 4px;\n",
              "    }\n",
              "\n",
              "    [theme=dark] .colab-df-convert {\n",
              "      background-color: #3B4455;\n",
              "      fill: #D2E3FC;\n",
              "    }\n",
              "\n",
              "    [theme=dark] .colab-df-convert:hover {\n",
              "      background-color: #434B5C;\n",
              "      box-shadow: 0px 1px 3px 1px rgba(0, 0, 0, 0.15);\n",
              "      filter: drop-shadow(0px 1px 2px rgba(0, 0, 0, 0.3));\n",
              "      fill: #FFFFFF;\n",
              "    }\n",
              "  </style>\n",
              "\n",
              "    <script>\n",
              "      const buttonEl =\n",
              "        document.querySelector('#df-50c4068b-c796-4a03-9413-e3726423037c button.colab-df-convert');\n",
              "      buttonEl.style.display =\n",
              "        google.colab.kernel.accessAllowed ? 'block' : 'none';\n",
              "\n",
              "      async function convertToInteractive(key) {\n",
              "        const element = document.querySelector('#df-50c4068b-c796-4a03-9413-e3726423037c');\n",
              "        const dataTable =\n",
              "          await google.colab.kernel.invokeFunction('convertToInteractive',\n",
              "                                                    [key], {});\n",
              "        if (!dataTable) return;\n",
              "\n",
              "        const docLinkHtml = 'Like what you see? Visit the ' +\n",
              "          '<a target=\"_blank\" href=https://colab.research.google.com/notebooks/data_table.ipynb>data table notebook</a>'\n",
              "          + ' to learn more about interactive tables.';\n",
              "        element.innerHTML = '';\n",
              "        dataTable['output_type'] = 'display_data';\n",
              "        await google.colab.output.renderOutput(dataTable, element);\n",
              "        const docLink = document.createElement('div');\n",
              "        docLink.innerHTML = docLinkHtml;\n",
              "        element.appendChild(docLink);\n",
              "      }\n",
              "    </script>\n",
              "  </div>\n",
              "\n",
              "\n",
              "    <div id=\"df-9bc17c78-8365-45af-98f4-c961e802b0c6\">\n",
              "      <button class=\"colab-df-quickchart\" onclick=\"quickchart('df-9bc17c78-8365-45af-98f4-c961e802b0c6')\"\n",
              "                title=\"Suggest charts\"\n",
              "                style=\"display:none;\">\n",
              "\n",
              "<svg xmlns=\"http://www.w3.org/2000/svg\" height=\"24px\"viewBox=\"0 0 24 24\"\n",
              "     width=\"24px\">\n",
              "    <g>\n",
              "        <path d=\"M19 3H5c-1.1 0-2 .9-2 2v14c0 1.1.9 2 2 2h14c1.1 0 2-.9 2-2V5c0-1.1-.9-2-2-2zM9 17H7v-7h2v7zm4 0h-2V7h2v10zm4 0h-2v-4h2v4z\"/>\n",
              "    </g>\n",
              "</svg>\n",
              "      </button>\n",
              "\n",
              "<style>\n",
              "  .colab-df-quickchart {\n",
              "      --bg-color: #E8F0FE;\n",
              "      --fill-color: #1967D2;\n",
              "      --hover-bg-color: #E2EBFA;\n",
              "      --hover-fill-color: #174EA6;\n",
              "      --disabled-fill-color: #AAA;\n",
              "      --disabled-bg-color: #DDD;\n",
              "  }\n",
              "\n",
              "  [theme=dark] .colab-df-quickchart {\n",
              "      --bg-color: #3B4455;\n",
              "      --fill-color: #D2E3FC;\n",
              "      --hover-bg-color: #434B5C;\n",
              "      --hover-fill-color: #FFFFFF;\n",
              "      --disabled-bg-color: #3B4455;\n",
              "      --disabled-fill-color: #666;\n",
              "  }\n",
              "\n",
              "  .colab-df-quickchart {\n",
              "    background-color: var(--bg-color);\n",
              "    border: none;\n",
              "    border-radius: 50%;\n",
              "    cursor: pointer;\n",
              "    display: none;\n",
              "    fill: var(--fill-color);\n",
              "    height: 32px;\n",
              "    padding: 0;\n",
              "    width: 32px;\n",
              "  }\n",
              "\n",
              "  .colab-df-quickchart:hover {\n",
              "    background-color: var(--hover-bg-color);\n",
              "    box-shadow: 0 1px 2px rgba(60, 64, 67, 0.3), 0 1px 3px 1px rgba(60, 64, 67, 0.15);\n",
              "    fill: var(--button-hover-fill-color);\n",
              "  }\n",
              "\n",
              "  .colab-df-quickchart-complete:disabled,\n",
              "  .colab-df-quickchart-complete:disabled:hover {\n",
              "    background-color: var(--disabled-bg-color);\n",
              "    fill: var(--disabled-fill-color);\n",
              "    box-shadow: none;\n",
              "  }\n",
              "\n",
              "  .colab-df-spinner {\n",
              "    border: 2px solid var(--fill-color);\n",
              "    border-color: transparent;\n",
              "    border-bottom-color: var(--fill-color);\n",
              "    animation:\n",
              "      spin 1s steps(1) infinite;\n",
              "  }\n",
              "\n",
              "  @keyframes spin {\n",
              "    0% {\n",
              "      border-color: transparent;\n",
              "      border-bottom-color: var(--fill-color);\n",
              "      border-left-color: var(--fill-color);\n",
              "    }\n",
              "    20% {\n",
              "      border-color: transparent;\n",
              "      border-left-color: var(--fill-color);\n",
              "      border-top-color: var(--fill-color);\n",
              "    }\n",
              "    30% {\n",
              "      border-color: transparent;\n",
              "      border-left-color: var(--fill-color);\n",
              "      border-top-color: var(--fill-color);\n",
              "      border-right-color: var(--fill-color);\n",
              "    }\n",
              "    40% {\n",
              "      border-color: transparent;\n",
              "      border-right-color: var(--fill-color);\n",
              "      border-top-color: var(--fill-color);\n",
              "    }\n",
              "    60% {\n",
              "      border-color: transparent;\n",
              "      border-right-color: var(--fill-color);\n",
              "    }\n",
              "    80% {\n",
              "      border-color: transparent;\n",
              "      border-right-color: var(--fill-color);\n",
              "      border-bottom-color: var(--fill-color);\n",
              "    }\n",
              "    90% {\n",
              "      border-color: transparent;\n",
              "      border-bottom-color: var(--fill-color);\n",
              "    }\n",
              "  }\n",
              "</style>\n",
              "\n",
              "      <script>\n",
              "        async function quickchart(key) {\n",
              "          const quickchartButtonEl =\n",
              "            document.querySelector('#' + key + ' button');\n",
              "          quickchartButtonEl.disabled = true;  // To prevent multiple clicks.\n",
              "          quickchartButtonEl.classList.add('colab-df-spinner');\n",
              "          try {\n",
              "            const charts = await google.colab.kernel.invokeFunction(\n",
              "                'suggestCharts', [key], {});\n",
              "          } catch (error) {\n",
              "            console.error('Error during call to suggestCharts:', error);\n",
              "          }\n",
              "          quickchartButtonEl.classList.remove('colab-df-spinner');\n",
              "          quickchartButtonEl.classList.add('colab-df-quickchart-complete');\n",
              "        }\n",
              "        (() => {\n",
              "          let quickchartButtonEl =\n",
              "            document.querySelector('#df-9bc17c78-8365-45af-98f4-c961e802b0c6 button');\n",
              "          quickchartButtonEl.style.display =\n",
              "            google.colab.kernel.accessAllowed ? 'block' : 'none';\n",
              "        })();\n",
              "      </script>\n",
              "    </div>\n",
              "\n",
              "  <div id=\"id_e5f1ebb8-6753-4eef-a9af-b0245442a64c\">\n",
              "    <style>\n",
              "      .colab-df-generate {\n",
              "        background-color: #E8F0FE;\n",
              "        border: none;\n",
              "        border-radius: 50%;\n",
              "        cursor: pointer;\n",
              "        display: none;\n",
              "        fill: #1967D2;\n",
              "        height: 32px;\n",
              "        padding: 0 0 0 0;\n",
              "        width: 32px;\n",
              "      }\n",
              "\n",
              "      .colab-df-generate:hover {\n",
              "        background-color: #E2EBFA;\n",
              "        box-shadow: 0px 1px 2px rgba(60, 64, 67, 0.3), 0px 1px 3px 1px rgba(60, 64, 67, 0.15);\n",
              "        fill: #174EA6;\n",
              "      }\n",
              "\n",
              "      [theme=dark] .colab-df-generate {\n",
              "        background-color: #3B4455;\n",
              "        fill: #D2E3FC;\n",
              "      }\n",
              "\n",
              "      [theme=dark] .colab-df-generate:hover {\n",
              "        background-color: #434B5C;\n",
              "        box-shadow: 0px 1px 3px 1px rgba(0, 0, 0, 0.15);\n",
              "        filter: drop-shadow(0px 1px 2px rgba(0, 0, 0, 0.3));\n",
              "        fill: #FFFFFF;\n",
              "      }\n",
              "    </style>\n",
              "    <button class=\"colab-df-generate\" onclick=\"generateWithVariable('df')\"\n",
              "            title=\"Generate code using this dataframe.\"\n",
              "            style=\"display:none;\">\n",
              "\n",
              "  <svg xmlns=\"http://www.w3.org/2000/svg\" height=\"24px\"viewBox=\"0 0 24 24\"\n",
              "       width=\"24px\">\n",
              "    <path d=\"M7,19H8.4L18.45,9,17,7.55,7,17.6ZM5,21V16.75L18.45,3.32a2,2,0,0,1,2.83,0l1.4,1.43a1.91,1.91,0,0,1,.58,1.4,1.91,1.91,0,0,1-.58,1.4L9.25,21ZM18.45,9,17,7.55Zm-12,3A5.31,5.31,0,0,0,4.9,8.1,5.31,5.31,0,0,0,1,6.5,5.31,5.31,0,0,0,4.9,4.9,5.31,5.31,0,0,0,6.5,1,5.31,5.31,0,0,0,8.1,4.9,5.31,5.31,0,0,0,12,6.5,5.46,5.46,0,0,0,6.5,12Z\"/>\n",
              "  </svg>\n",
              "    </button>\n",
              "    <script>\n",
              "      (() => {\n",
              "      const buttonEl =\n",
              "        document.querySelector('#id_e5f1ebb8-6753-4eef-a9af-b0245442a64c button.colab-df-generate');\n",
              "      buttonEl.style.display =\n",
              "        google.colab.kernel.accessAllowed ? 'block' : 'none';\n",
              "\n",
              "      buttonEl.onclick = () => {\n",
              "        google.colab.notebook.generateWithVariable('df');\n",
              "      }\n",
              "      })();\n",
              "    </script>\n",
              "  </div>\n",
              "\n",
              "    </div>\n",
              "  </div>\n"
            ],
            "application/vnd.google.colaboratory.intrinsic+json": {
              "type": "dataframe",
              "variable_name": "df"
            }
          },
          "metadata": {},
          "execution_count": 20
        }
      ]
    },
    {
      "cell_type": "code",
      "source": [
        "# 주중과 주말 데이터 분리\n",
        "# DayOfWeek: 0=월, 1=화, 2=수, 3=목, 4=금, 5=토, 6=일\n",
        "weekday_prices = df[df['DayOfWeek'].isin([0, 1, 2, 3, 4])]['UnitPrice'].dropna()\n",
        "weekend_prices = df[df['DayOfWeek'].isin([5, 6])]['UnitPrice'].dropna()\n",
        "\n",
        "print(f\"주중 데이터 건수: {len(weekday_prices)}\")\n",
        "print(f\"주말 데이터 건수: {len(weekend_prices)}\")"
      ],
      "metadata": {
        "id": "qynX6XgM9t5n",
        "colab": {
          "base_uri": "https://localhost:8080/"
        },
        "outputId": "9476d570-2fa3-47ef-b877-6f0e952ef013"
      },
      "execution_count": 21,
      "outputs": [
        {
          "output_type": "stream",
          "name": "stdout",
          "text": [
            "주중 데이터 건수: 477534\n",
            "주말 데이터 건수: 64375\n"
          ]
        }
      ]
    },
    {
      "cell_type": "code",
      "source": [
        "# 통계량 계산 코드\n",
        "stats_df = pd.DataFrame({\n",
        "    'Weekday': [weekday_prices.mean(), weekday_prices.median(), weekday_prices.std(), weekday_prices.var(), weekday_prices.quantile(0.25), weekday_prices.quantile(0.75), weekday_prices.max()],\n",
        "    'Weekend': [weekend_prices.mean(), weekend_prices.median(), weekend_prices.std(), weekend_prices.var(), weekend_prices.quantile(0.25), weekend_prices.quantile(0.75), weekend_prices.max()]\n",
        "}, index=['Mean', 'Median', 'Std. Dev', 'Variance', '25th Quantile', '75th Quantile', 'Max'])\n",
        "print(stats_df)"
      ],
      "metadata": {
        "colab": {
          "base_uri": "https://localhost:8080/"
        },
        "id": "2wf0L1PU98ar",
        "outputId": "371b73c6-a716-4451-c3ca-ebfdf966ecf2"
      },
      "execution_count": 22,
      "outputs": [
        {
          "output_type": "stream",
          "name": "stdout",
          "text": [
            "                    Weekday      Weekend\n",
            "Mean               4.843425     2.887824\n",
            "Median             2.100000     1.850000\n",
            "Std. Dev         103.032058     7.959497\n",
            "Variance       10615.604927    63.353599\n",
            "25th Quantile      1.250000     1.250000\n",
            "75th Quantile      4.130000     3.750000\n",
            "Max            38970.000000  1236.750000\n"
          ]
        }
      ]
    },
    {
      "cell_type": "code",
      "source": [
        "# 두 그룹의 데이터를 하나의 DataFrame으로 합치기\n",
        "plot_df = pd.DataFrame({\n",
        "    'UnitPrice': pd.concat([weekday_prices, weekend_prices]),\n",
        "    'DayType': ['Weekday'] * len(weekday_prices) + ['Weekend'] * len(weekend_prices)\n",
        "})\n",
        "\n",
        "plt.figure(figsize=(10, 6))\n",
        "sns.boxplot(x='DayType', y='UnitPrice', data=plot_df, palette=['skyblue', 'salmon'])\n",
        "\n",
        "\n",
        "plt.title('UnitPrice Distribution: Weekday vs. Weekend (Zoomed)')\n",
        "plt.xlabel('Day Type')\n",
        "plt.ylabel('UnitPrice')\n",
        "plt.show()"
      ],
      "metadata": {
        "id": "pBNoAnjj9tzh",
        "colab": {
          "base_uri": "https://localhost:8080/",
          "height": 670
        },
        "outputId": "9bd54935-5782-4643-ef0d-64a72eebab55"
      },
      "execution_count": 23,
      "outputs": [
        {
          "output_type": "stream",
          "name": "stderr",
          "text": [
            "/tmp/ipython-input-1060557544.py:8: FutureWarning: \n",
            "\n",
            "Passing `palette` without assigning `hue` is deprecated and will be removed in v0.14.0. Assign the `x` variable to `hue` and set `legend=False` for the same effect.\n",
            "\n",
            "  sns.boxplot(x='DayType', y='UnitPrice', data=plot_df, palette=['skyblue', 'salmon'])\n"
          ]
        },
        {
          "output_type": "display_data",
          "data": {
            "text/plain": [
              "<Figure size 1000x600 with 1 Axes>"
            ],
            "image/png": "[encoded data removed]"
          },
          "metadata": {}
        }
      ]
    },
    {
      "cell_type": "code",
      "source": [
        "plt.figure(figsize=(12, 6))\n",
        "sns.histplot(weekday_prices, bins=50, kde=True, color='blue', label='Weekday', alpha=0.6, stat='density')\n",
        "sns.histplot(weekend_prices, bins=50, kde=True, color='red', label='Weekend', alpha=0.6, stat='density')\n",
        "\n",
        "plt.title('UnitPrice Histogram: Weekday vs. Weekend (Zoomed to Common Prices)')\n",
        "plt.xlabel('UnitPrice')\n",
        "plt.ylabel('Density')\n",
        "plt.legend()\n",
        "plt.show()"
      ],
      "metadata": {
        "colab": {
          "base_uri": "https://localhost:8080/",
          "height": 488
        },
        "id": "b27Oigic-u1n",
        "outputId": "05680019-a771-418d-cc32-ff5cd9d572b0"
      },
      "execution_count": 24,
      "outputs": [
        {
          "output_type": "display_data",
          "data": {
            "text/plain": [
              "<Figure size 1200x600 with 1 Axes>"
            ],
            "image/png": "[encoded data removed]"
          },
          "metadata": {}
        }
      ]
    },
    {
      "cell_type": "markdown",
      "source": [
        "## 4. 상품의 단가와 판매 국가, 판매 날짜을 이용해 판매 수량을 예측하는 회귀 모델을 만드세요.\n",
        "* 필요한 데이터를 정리하고 결측치와 이상치를 제거해주세요.  \n",
        "* 변수를 다음과 같이 설정하여 다중 선형 회귀 분석을 진행하세요.\n",
        "    * 종속변수: 판매 수량(`Quantity`)\n",
        "    * 독립변수: 상품 단가(`UnitPrice`), 판매 국가(`Country`), 판매 요일(`DayOfWeek`), 판매 월( `InvoiceMonth`)   \n",
        "* 회귀계수와 결정계수를 활용하여 회귀 분석 결과를 해석해주세요."
      ],
      "metadata": {
        "id": "zbNpkFBBT4aK"
      }
    },
    {
      "cell_type": "code",
      "source": [
        "# 결측치, 이상치 제거\n",
        "# 판매수량 Qiantity 0 이하인 경우 = 반품 / 취소 제거\n",
        "# 단가 UnitPrice 0 이하인 경우 = 무료상품 / 오류 제거\n",
        "import statsmodels.api as sm\n",
        "df_model = df[['Quantity', 'UnitPrice', 'Country', 'DayOfWeek', 'InvoiceMonth']].copy()\n",
        "\n",
        "# Quantity (판매 수량)와 UnitPrice (단가)가 0 이하인 비정상 거래 제거\n",
        "# Quantity: 반품/취소 제거, UnitPrice: 무료 상품/오류 제거\n",
        "df_model = df_model[(df_model['Quantity'] > 0) & (df_model['UnitPrice'] > 0)].dropna()\n",
        "\n",
        "# 범주형 변수 정리 및 그룹핑\n",
        "\n",
        "# 'Country' 처리: 주문 건수 상위 5개국만 남기고 나머지는 'Other'로 그룹핑\n",
        "top_5_countries = df_model['Country'].value_counts().nlargest(5).index\n",
        "df_model['Country_Processed'] = df_model['Country'].apply(\n",
        "    lambda x: x if x in top_5_countries else 'Other'\n",
        ")\n",
        "\n",
        "# 더미 변수 생성 (One-Hot Encoding)\n",
        "# DayOfWeek와 InvoiceMonth를 범주형으로 변환 후 더미 변수 생성\n",
        "df_model['DayOfWeek'] = df_model['DayOfWeek'].astype('category')\n",
        "df_model['InvoiceMonth'] = df_model['InvoiceMonth'].astype('category')\n",
        "\n",
        "# drop_first=True를 사용하여 기준 그룹(Reference Group) 설정 및 다중공선성 방지\n",
        "# 기준 그룹: Country=United Kingdom, DayOfWeek=0 (월요일), InvoiceMonth=1 (1월)\n",
        "df_dummies = pd.get_dummies(\n",
        "    df_model[['Country_Processed', 'DayOfWeek', 'InvoiceMonth']],\n",
        "    drop_first=True\n",
        ")\n",
        "\n",
        "# Convert boolean columns to integers\n",
        "df_dummies = df_dummies.astype(int)\n",
        "\n",
        "# 최종 모델링 데이터셋 준비\n",
        "df_final = pd.concat([df_model[['Quantity', 'UnitPrice']], df_dummies], axis=1)"
      ],
      "metadata": {
        "id": "RqKAADX-9wLv"
      },
      "execution_count": 25,
      "outputs": []
    },
    {
      "cell_type": "code",
      "source": [
        "#  다중 선형 회귀 분석 실행 ---\n",
        "\n",
        "# 종속 변수 (Y): Quantity (판매 수량)\n",
        "Y = df_final['Quantity']\n",
        "\n",
        "# 독립 변수 (X): UnitPrice와 생성된 더미 변수들\n",
        "X = df_final.drop('Quantity', axis=1)\n",
        "\n",
        "# 절편 (Intercept) 추가: 상수항을 모델에 추가\n",
        "X = sm.add_constant(X)\n",
        "\n",
        "# OLS (Ordinary Least Squares) 모델 적합\n",
        "model = sm.OLS(Y, X).fit()\n"
      ],
      "metadata": {
        "id": "oyvzZZGAHoJT"
      },
      "execution_count": 26,
      "outputs": []
    },
    {
      "cell_type": "code",
      "source": [
        "# 회귀 분석 결과 해석 및 출력 ---\n",
        "\n",
        "print(\"\\n\" + \"=\"*50)\n",
        "print(\"### 📊 다중 선형 회귀 분석 결과 (OLS) ###\")\n",
        "print(\"=\"*50)\n",
        "\n",
        "# 주요 통계량 출력\n",
        "print(f\"종속 변수: Quantity\")\n",
        "print(f\"관측치 수 (N): {model.nobs:.0f}\")\n",
        "print(\"-\" * 50)\n",
        "print(f\"결정 계수 (R-squared): {model.rsquared:.4f}\")\n",
        "print(f\"조정된 R-squared: {model.rsquared_adj:.4f}\")\n",
        "print(f\"F-통계량 P-값: {model.f_pvalue:.4f} (모델의 유의성)\")\n",
        "print(\"=\" * 50)\n",
        "print(\"### 📝 회귀 계수 (Coefficients) 및 유의성 ###\")\n",
        "print(\"-\" * 50)\n",
        "print(model.summary().tables[1]) # 계수 테이블 출력\n",
        "\n",
        "# 결과 해석 요약 ---\n",
        "\n",
        "# UnitPrice 계수 추출\n",
        "unit_price_coef = model.params['UnitPrice']\n",
        "unit_price_p = model.pvalues['UnitPrice']\n",
        "\n",
        "print(\"\\n\" + \"=\"*50)\n",
        "print(\"### 🔑 최종 결과 해석 요약 ###\")\n",
        "print(\"-\" * 50)\n",
        "print(f\"1. **모델 설명력 (R-squared):** {model.rsquared:.4f}\")\n",
        "print(f\"   -> 모델의 설명력은 {model.rsquared:.2f}이므로, 판매 수량의 변동을 예측하기에는 부족할 수 있습니다.\")\n",
        "\n",
        "print(f\"2. **UnitPrice 영향:** 계수 = {unit_price_coef:.4f}, P-값 = {unit_price_p:.4f}\")\n",
        "if unit_price_p < 0.05:\n",
        "    print(f\"   -> **통계적으로 유의**합니다. 단가가 1 증가할 때 판매 수량은 {unit_price_coef:.4f}만큼 감소합니다.\")\n",
        "else:\n",
        "    print(f\"   -> 통계적으로 유의하지 않습니다.\")\n",
        "\n",
        "print(\"\\n3. **범주형 변수 해석:**\")\n",
        "print(f\"   -> 모든 계수는 해당 그룹이 기준 그룹(UK, 월요일, 1월) 대비 Quantity에 미치는 영향을 나타냅니다.\")\n",
        "print(f\"   -> P-값이 0.05 미만인 계수들만 통계적으로 유의한 차이를 나타냅니다.\")\n",
        "print(\"-\" * 50)"
      ],
      "metadata": {
        "colab": {
          "base_uri": "https://localhost:8080/"
        },
        "id": "_wIXlYGaIYlv",
        "outputId": "3dd30cde-c8af-4e23-f0e1-0350ad9e9f84"
      },
      "execution_count": 27,
      "outputs": [
        {
          "output_type": "stream",
          "name": "stdout",
          "text": [
            "\n",
            "==================================================\n",
            "### 📊 다중 선형 회귀 분석 결과 (OLS) ###\n",
            "==================================================\n",
            "종속 변수: Quantity\n",
            "관측치 수 (N): 530104\n",
            "--------------------------------------------------\n",
            "결정 계수 (R-squared): 0.0007\n",
            "조정된 R-squared: 0.0007\n",
            "F-통계량 P-값: 0.0000 (모델의 유의성)\n",
            "==================================================\n",
            "### 📝 회귀 계수 (Coefficients) 및 유의성 ###\n",
            "--------------------------------------------------\n",
            "====================================================================================================\n",
            "                                       coef    std err          t      P>|t|      [0.025      0.975]\n",
            "----------------------------------------------------------------------------------------------------\n",
            "const                               18.2896      1.992      9.180      0.000      14.385      22.195\n",
            "UnitPrice                           -0.0172      0.006     -2.898      0.004      -0.029      -0.006\n",
            "Country_Processed_France            -5.3507      2.438     -2.194      0.028     -10.130      -0.572\n",
            "Country_Processed_Germany           -5.4961      2.397     -2.293      0.022     -10.194      -0.798\n",
            "Country_Processed_Other             11.4268      2.117      5.399      0.000       7.278      15.575\n",
            "Country_Processed_Spain             -7.4000      3.580     -2.067      0.039     -14.417      -0.383\n",
            "Country_Processed_United Kingdom    -8.8565      1.767     -5.013      0.000     -12.319      -5.394\n",
            "DayOfWeek_1                          1.7634      0.713      2.475      0.013       0.367       3.160\n",
            "DayOfWeek_2                          1.6061      0.726      2.213      0.027       0.184       3.028\n",
            "DayOfWeek_3                          2.2436      0.709      3.164      0.002       0.854       3.633\n",
            "DayOfWeek_4                          1.4070      0.752      1.871      0.061      -0.067       2.881\n",
            "DayOfWeek_6                         -1.6308      0.802     -2.034      0.042      -3.202      -0.059\n",
            "InvoiceMonth_2                      -0.9942      1.264     -0.786      0.432      -3.472       1.484\n",
            "InvoiceMonth_3                      -0.9950      1.176     -0.846      0.398      -3.300       1.310\n",
            "InvoiceMonth_4                      -0.5675      1.240     -0.458      0.647      -2.998       1.863\n",
            "InvoiceMonth_5                      -0.4013      1.174     -0.342      0.732      -2.702       1.900\n",
            "InvoiceMonth_6                      -0.8004      1.175     -0.681      0.496      -3.104       1.503\n",
            "InvoiceMonth_7                      -0.9234      1.154     -0.800      0.424      -3.185       1.339\n",
            "InvoiceMonth_8                       0.3276      1.188      0.276      0.783      -2.000       2.655\n",
            "InvoiceMonth_9                       0.2190      1.096      0.200      0.842      -1.928       2.367\n",
            "InvoiceMonth_10                     -0.8709      1.056     -0.825      0.410      -2.941       1.199\n",
            "InvoiceMonth_11                     -2.0100      0.999     -2.011      0.044      -3.969      -0.051\n",
            "InvoiceMonth_12                     -0.9255      1.035     -0.894      0.371      -2.953       1.102\n",
            "====================================================================================================\n",
            "\n",
            "==================================================\n",
            "### 🔑 최종 결과 해석 요약 ###\n",
            "--------------------------------------------------\n",
            "1. **모델 설명력 (R-squared):** 0.0007\n",
            "   -> 모델의 설명력은 0.00이므로, 판매 수량의 변동을 예측하기에는 부족할 수 있습니다.\n",
            "2. **UnitPrice 영향:** 계수 = -0.0172, P-값 = 0.0038\n",
            "   -> **통계적으로 유의**합니다. 단가가 1 증가할 때 판매 수량은 -0.0172만큼 감소합니다.\n",
            "\n",
            "3. **범주형 변수 해석:**\n",
            "   -> 모든 계수는 해당 그룹이 기준 그룹(UK, 월요일, 1월) 대비 Quantity에 미치는 영향을 나타냅니다.\n",
            "   -> P-값이 0.05 미만인 계수들만 통계적으로 유의한 차이를 나타냅니다.\n",
            "--------------------------------------------------\n"
          ]
        }
      ]
    },
    {
      "cell_type": "markdown",
      "source": [
        "단가 : 단가가 올라가면 판매수량 유의하게 감소\n",
        "\n",
        "요일 : 월요일에 비해 화, 수, 목요일에 판매수량이 많음\n",
        "\n",
        "국가 : 주요국가가 기존그룹 대비 판매수량이 적음. Other그룹에 판매수량이 가장 많음\n",
        "\n",
        "월 : 11월은 1월기준 유의하게 적음"
      ],
      "metadata": {
        "id": "suUcDbXYvFyT"
      }
    },
    {
      "cell_type": "markdown",
      "source": [
        "결정계수 R^2 = 0.0007 > 독립 변수들이 종속변수의 약 0.07%를 설명하기 때문에 설명력이 극히 낮음\n",
        "\n",
        "조정된 R^2 변수 개수를 반영해도 설명력은 동일하게 낮음\n",
        "\n",
        "F-통계량 P-값 : 모델 전체는 통계적으로 유의미하지만 R^2의 값이 너무 낮아서 실제 예측에 활용하기에는 부적절하다."
      ],
      "metadata": {
        "id": "DVY90FkrJfdN"
      }
    },
    {
      "cell_type": "markdown",
      "source": [
        "회귀 계수(coef)는 UnitPrice에서 -0.0172, P-Value는 0.004이므로 상품 단가가 1 증가할 때, 판매 수량은 평균 0.0172만큼 유의미하게 감소하고 있음.\n",
        "\n",
        "Country_UK... 등의 coef의 값은 -8.8565이므로 기준 국가대비 8.86개 적음.\n",
        "Contry_Other 은 11개정도 높다.\n",
        "DayOfWeek_3(목요일)은 2.2436으로 월요일대비 2.24개 많음.\n",
        "InvoiceMonth_11 11월의 판매수량이 1월대비 2.01개 적음."
      ],
      "metadata": {
        "id": "SaqSRg7JJ1B6"
      }
    },
    {
      "cell_type": "markdown",
      "source": [
        "결론 : 모델의 설명력은 매우매우매우 낮지만, 각 개별 변수들의 영향력은 통계적으로 유의미합니다."
      ],
      "metadata": {
        "id": "usdJx6rvKi-1"
      }
    },
    {
      "cell_type": "markdown",
      "source": [
        "## 5. 상품 정보와 거래 정보를 바탕으로 해당 거래가 반품될 가능성을 예측하는 로지스틱 회귀 모델을 만드세요.\n",
        "* 필요한 데이터를 정리하고 결측치와 이상치를 제거해주세요.  \n",
        "* `Quantity` 피쳐를 활용해 `IsReturn` 피쳐를 생성하세요.\n",
        "* 모델 학습에 사용할 적절한 피쳐를 선정하세요.\n",
        "* 모델 학습과 검증을 위해 데이터셋을 train셋과 test셋으로 나누세요.\n",
        "* `IsReturn`을 예측하는 로지스틱 회귀 모델을 학습하세요.\n",
        "* 혼동행렬, 정밀도, 재현율, F1-score 등 다양한 평가지표를 사용하여 모델의 성능을 평가하세요.\n",
        "* 모델의 성능을 더 높일 수 있는 방안에 대해서 고민해보세요."
      ],
      "metadata": {
        "id": "QDgJTeRoUwjf"
      }
    },
    {
      "cell_type": "code",
      "source": [
        "# 'InvoiceNo'가 'C'로 시작하면 반품(취소)으로 간주 (더 정확한 IsReturn 정의)\n",
        "# Quantity가 음수인 경우는 반품으로 간주\n",
        "\n",
        "# 1. 데이터 클리닝 및 복사\n",
        "df_logi = df.copy()\n",
        "\n",
        "# 2. IsReturn 피처 생성\n",
        "# Quantity가 0보다 작으면 반품(IsReturn=1), 아니면 정상 거래(IsReturn=0)로 정의\n",
        "# 주의: InvoiceNo가 'C'로 시작하지 않더라도 Quantity가 음수이면 반품으로 간주합니다.\n",
        "df_logi['IsReturn'] = (df_logi['Quantity'] < 0).astype(int)\n",
        "\n",
        "# 3. 모델링을 위해 Quantity를 양수로 통일 (반품 여부는 IsReturn이 담당)\n",
        "df_logi['Quantity'] = df_logi['Quantity'].abs()\n",
        "\n",
        "# 4. 이상치/결측치 처리\n",
        "# UnitPrice가 0 이하인 경우 제거 (무료 상품/오류)\n",
        "df_logi = df_logi[df_logi['UnitPrice'] > 0].dropna()\n",
        "\n",
        "# 5. 종속변수 (Y): IsReturn, 독립변수 (X) 후보\n",
        "# DayOfWeek, InvoiceMonth는 이미 앞선 과정에서 생성되었다고 가정\n",
        "df_logi = df_logi[['IsReturn', 'UnitPrice', 'Quantity', 'Country', 'DayOfWeek', 'InvoiceMonth']].copy()"
      ],
      "metadata": {
        "id": "mcvefNO19yk6"
      },
      "execution_count": 28,
      "outputs": []
    },
    {
      "cell_type": "code",
      "source": [
        "# --- 1. 시각적 확인 (Box Plot) ---\n",
        "\n",
        "plt.figure(figsize=(14, 5))\n",
        "\n",
        "#  UnitPrice Box Plot\n",
        "plt.subplot(1, 2, 1)\n",
        "sns.boxplot(y=df_model['UnitPrice'])\n",
        "plt.title('UnitPrice Box Plot')\n",
        "plt.ylabel('UnitPrice')\n",
        "\n",
        "#  Quantity Box Plot\n",
        "plt.subplot(1, 2, 2)\n",
        "sns.boxplot(y=df_model['Quantity'])\n",
        "plt.title('Quantity Box Plot')\n",
        "plt.ylabel('Quantity')\n",
        "\n",
        "plt.tight_layout()\n",
        "plt.show()\n",
        "\n",
        "# --- 통계적 확인 (IQR 기준 계산) ---\n",
        "\n",
        "def identify_outliers_iqr(series):\n",
        "    Q1 = series.quantile(0.25)\n",
        "    Q3 = series.quantile(0.75)\n",
        "    IQR = Q3 - Q1\n",
        "\n",
        "    lower_bound = Q1 - 1.5 * IQR\n",
        "    upper_bound = Q3 + 1.5 * IQR\n",
        "\n",
        "    outliers = series[(series < lower_bound) | (series > upper_bound)]\n",
        "\n",
        "    print(f\"\\n--- {series.name} IQR 이상치 분석 ---\")\n",
        "    print(f\"Q1 (25%): {Q1:.2f}\")\n",
        "    print(f\"Q3 (75%): {Q3:.2f}\")\n",
        "    print(f\"IQR: {IQR:.2f}\")\n",
        "    print(f\"하한 경계: {lower_bound:.2f}\")\n",
        "    print(f\"상한 경계: {upper_bound:.2f}\")\n",
        "    print(f\"이상치 개수: {len(outliers)}개\")\n",
        "    print(f\"이상치 비율: {(len(outliers) / len(series) * 100):.2f}%\")\n",
        "\n",
        "    # 상위 5개 이상치 값 출력\n",
        "    if len(outliers) > 0:\n",
        "        print(f\"상위 5개 이상치 값:\\n{outliers.nlargest(5)}\")\n",
        "\n",
        "    return lower_bound, upper_bound\n",
        "\n",
        "# UnitPrice 이상치 확인\n",
        "lb_price, ub_price = identify_outliers_iqr(df_model['UnitPrice'])\n",
        "\n",
        "# Quantity 이상치 확인\n",
        "lb_qty, ub_qty = identify_outliers_iqr(df_model['Quantity'])"
      ],
      "metadata": {
        "colab": {
          "base_uri": "https://localhost:8080/",
          "height": 914
        },
        "id": "W0oZQu3rTPQ3",
        "outputId": "f7050371-40d0-4fc9-be5b-ec3f02d36e96"
      },
      "execution_count": 29,
      "outputs": [
        {
          "output_type": "display_data",
          "data": {
            "text/plain": [
              "<Figure size 1400x500 with 2 Axes>"
            ],
            "image/png": "[encoded data removed]"
          },
          "metadata": {}
        },
        {
          "output_type": "stream",
          "name": "stdout",
          "text": [
            "\n",
            "--- UnitPrice IQR 이상치 분석 ---\n",
            "Q1 (25%): 1.25\n",
            "Q3 (75%): 4.13\n",
            "IQR: 2.88\n",
            "하한 경계: -3.07\n",
            "상한 경계: 8.45\n",
            "이상치 개수: 37999개\n",
            "이상치 비율: 7.17%\n",
            "상위 5개 이상치 값:\n",
            "15017     13541.33\n",
            "299982    11062.06\n",
            "173382     8142.75\n",
            "297723     4505.17\n",
            "268028     4287.63\n",
            "Name: UnitPrice, dtype: float64\n",
            "\n",
            "--- Quantity IQR 이상치 분석 ---\n",
            "Q1 (25%): 1.00\n",
            "Q3 (75%): 10.00\n",
            "IQR: 9.00\n",
            "하한 경계: -12.50\n",
            "상한 경계: 23.50\n",
            "이상치 개수: 56363개\n",
            "이상치 비율: 10.63%\n",
            "상위 5개 이상치 값:\n",
            "540421    80995\n",
            "61619     74215\n",
            "421632     4800\n",
            "206121     4300\n",
            "97432      3906\n",
            "Name: Quantity, dtype: int64\n"
          ]
        }
      ]
    },
    {
      "cell_type": "markdown",
      "source": [
        "이상치의 비율이 너무 많으므로 제거하지 않고 진행."
      ],
      "metadata": {
        "id": "XoUdtcbxTrYl"
      }
    },
    {
      "cell_type": "code",
      "source": [
        "from sklearn.model_selection import train_test_split\n",
        "from sklearn.preprocessing import StandardScaler\n",
        "import statsmodels.api as sm\n",
        "from sklearn.metrics import confusion_matrix, classification_report, f1_score, precision_score, recall_score\n",
        "\n",
        "# 1. 범주형 변수 더미화 (Country, InvoiceMonth)\n",
        "# 상위 5개국만 유지하고 나머지는 'Other'로 묶는 처리 적용 (앞선 회귀 모델과 동일)\n",
        "top_5_countries = df_logi['Country'].value_counts().nlargest(5).index\n",
        "df_logi['Country_Processed'] = df_logi['Country'].apply(\n",
        "    lambda x: x if x in top_5_countries else 'Other'\n",
        ")\n",
        "\n",
        "# DayOfWeek, InvoiceMonth는 범주형으로 변환\n",
        "df_logi['DayOfWeek'] = df_logi['DayOfWeek'].astype('category')\n",
        "df_logi['InvoiceMonth'] = df_logi['InvoiceMonth'].astype('category')\n",
        "\n",
        "\n",
        "# 더미 변수 생성 (drop_first=True로 기준 그룹 설정)\n",
        "X_dummies = pd.get_dummies(\n",
        "    df_logi[['Country_Processed', 'InvoiceMonth']],\n",
        "    drop_first=True\n",
        ")\n",
        "\n",
        "# 독립변수 X 구성: UnitPrice, Quantity (연속형) + 더미 변수\n",
        "X = pd.concat([df_logi[['UnitPrice', 'Quantity']], X_dummies], axis=1)\n",
        "\n",
        "# 상수항 추가\n",
        "X = sm.add_constant(X, prepend=False)\n",
        "Y = df_logi['IsReturn']\n",
        "\n",
        "# 2. 데이터 분할 (Train: 70%, Test: 30%)\n",
        "X_train, X_test, Y_train, Y_test = train_test_split(\n",
        "    X, Y, test_size=0.3, random_state=42, stratify=Y # stratify=Y를 통해 반품 비율 유지\n",
        ")\n",
        "\n",
        "# 3. 연속형 변수 표준화 (선택 사항이지만 모델 안정성을 위해 적용)\n",
        "scaler = StandardScaler()\n",
        "X_train[['UnitPrice', 'Quantity']] = scaler.fit_transform(X_train[['UnitPrice', 'Quantity']])\n",
        "X_test[['UnitPrice', 'Quantity']] = scaler.transform(X_test[['UnitPrice', 'Quantity']])\n",
        "\n",
        "# Convert boolean columns to integers after splitting and scaling\n",
        "X_train = X_train.astype(int)\n",
        "X_test = X_test.astype(int)"
      ],
      "metadata": {
        "id": "qk0d5pqM9yVk"
      },
      "execution_count": 30,
      "outputs": []
    },
    {
      "cell_type": "code",
      "source": [
        "# 로지스틱 회귀 모델 학습\n",
        "logit_model = sm.Logit(Y_train, X_train)\n",
        "result = logit_model.fit(disp=0) # disp=0: 학습 과정 출력 생략\n",
        "\n",
        "print(\"=\"*60)\n",
        "print(\"### 로지스틱 회귀 분석 결과 (Logit) ###\")\n",
        "print(\"=\"*60)\n",
        "print(result.summary().tables[1]) # 계수 테이블 출력\n",
        "\n",
        "# 예측 확률을 바탕으로 클래스 예측 (임계값 0.5)\n",
        "Y_pred_proba = result.predict(X_test)\n",
        "Y_pred = (Y_pred_proba >= 0.5).astype(int)"
      ],
      "metadata": {
        "colab": {
          "base_uri": "https://localhost:8080/"
        },
        "id": "o0M4irKwxC4R",
        "outputId": "e9e31a32-bcaa-4f8f-f3ae-4a3c365a2131"
      },
      "execution_count": 31,
      "outputs": [
        {
          "output_type": "stream",
          "name": "stdout",
          "text": [
            "============================================================\n",
            "### 로지스틱 회귀 분석 결과 (Logit) ###\n",
            "============================================================\n",
            "====================================================================================================\n",
            "                                       coef    std err          z      P>|z|      [0.025      0.975]\n",
            "----------------------------------------------------------------------------------------------------\n",
            "UnitPrice                            0.0678      0.009      7.604      0.000       0.050       0.085\n",
            "Quantity                             0.0111      0.004      2.831      0.005       0.003       0.019\n",
            "Country_Processed_France            -0.8313      0.126     -6.579      0.000      -1.079      -0.584\n",
            "Country_Processed_Germany            0.1663      0.095      1.752      0.080      -0.020       0.352\n",
            "Country_Processed_Other             -0.2757      0.092     -2.998      0.003      -0.456      -0.095\n",
            "Country_Processed_Spain             -0.7167      0.189     -3.800      0.000      -1.086      -0.347\n",
            "Country_Processed_United Kingdom    -0.5905      0.075     -7.846      0.000      -0.738      -0.443\n",
            "InvoiceMonth_2                      -0.3316      0.075     -4.413      0.000      -0.479      -0.184\n",
            "InvoiceMonth_3                      -0.2415      0.067     -3.590      0.000      -0.373      -0.110\n",
            "InvoiceMonth_4                      -0.1851      0.070     -2.659      0.008      -0.322      -0.049\n",
            "InvoiceMonth_5                      -0.4229      0.070     -6.057      0.000      -0.560      -0.286\n",
            "InvoiceMonth_6                      -0.2510      0.067     -3.731      0.000      -0.383      -0.119\n",
            "InvoiceMonth_7                      -0.1682      0.066     -2.544      0.011      -0.298      -0.039\n",
            "InvoiceMonth_8                      -0.2428      0.067     -3.616      0.000      -0.374      -0.111\n",
            "InvoiceMonth_9                      -0.4095      0.064     -6.407      0.000      -0.535      -0.284\n",
            "InvoiceMonth_10                     -0.2948      0.060     -4.936      0.000      -0.412      -0.178\n",
            "InvoiceMonth_11                     -0.6096      0.060    -10.086      0.000      -0.728      -0.491\n",
            "InvoiceMonth_12                     -0.2280      0.061     -3.756      0.000      -0.347      -0.109\n",
            "const                               -2.9549      0.088    -33.568      0.000      -3.127      -2.782\n",
            "====================================================================================================\n"
          ]
        }
      ]
    },
    {
      "cell_type": "code",
      "source": [
        "# 혼동 행렬\n",
        "cm = confusion_matrix(Y_test, Y_pred)\n",
        "\n",
        "print(\"\\n\" + \"=\"*50)\n",
        "print(\"### 1. 혼동 행렬 (Confusion Matrix) ###\")\n",
        "print(\"-\" * 50)\n",
        "print(f\"TN: {cm[0, 0]}, FP: {cm[0, 1]}\")\n",
        "print(f\"FN: {cm[1, 0]}, TP: {cm[1, 1]}\")\n",
        "print(\"\\n\" + str(cm))"
      ],
      "metadata": {
        "colab": {
          "base_uri": "https://localhost:8080/"
        },
        "id": "kQSc09mfQNHA",
        "outputId": "d909c99c-3b6b-4e82-9b4f-166394c07cc2"
      },
      "execution_count": 32,
      "outputs": [
        {
          "output_type": "stream",
          "name": "stdout",
          "text": [
            "\n",
            "==================================================\n",
            "### 1. 혼동 행렬 (Confusion Matrix) ###\n",
            "--------------------------------------------------\n",
            "TN: 119359, FP: 6\n",
            "FN: 2662, TP: 10\n",
            "\n",
            "[[119359      6]\n",
            " [  2662     10]]\n"
          ]
        }
      ]
    },
    {
      "cell_type": "code",
      "source": [
        "class_names = ['n-return (0)', 'return (1)']\n",
        "\n",
        "# --- 히트맵 시각화 ---\n",
        "plt.figure(figsize=(8, 6))\n",
        "sns.heatmap(\n",
        "    cm,\n",
        "    annot=True,\n",
        "    fmt='d',\n",
        "    cmap='Blues',\n",
        "    xticklabels=class_names,\n",
        "    yticklabels=class_names,\n",
        "    cbar=False\n",
        ")\n",
        "\n",
        "plt.xlabel('Predicted Label')\n",
        "plt.ylabel('True Label')\n",
        "plt.title('Confusion Matrix Heatmap')\n",
        "plt.show()"
      ],
      "metadata": {
        "colab": {
          "base_uri": "https://localhost:8080/",
          "height": 564
        },
        "id": "vp2HMTR6xECg",
        "outputId": "29fb2f76-c05f-483f-a188-c42d754971b4"
      },
      "execution_count": 33,
      "outputs": [
        {
          "output_type": "display_data",
          "data": {
            "text/plain": [
              "<Figure size 800x600 with 1 Axes>"
            ],
            "image/png": "[encoded data removed]"
          },
          "metadata": {}
        }
      ]
    },
    {
      "cell_type": "code",
      "source": [
        "# 분류 보고서\n",
        "report = classification_report(Y_test, Y_pred, zero_division=0)\n",
        "print(\"\\n\" + \"=\"*50)\n",
        "print(\"### 2. 분류 보고서 (Classification Report) ###\")\n",
        "print(\"-\" * 50)\n",
        "print(report)\n",
        "\n",
        "# 주요 지표 추출\n",
        "precision_return = precision_score(Y_test, Y_pred, pos_label=1, zero_division=0)\n",
        "recall_return = recall_score(Y_test, Y_pred, pos_label=1, zero_division=0)\n",
        "f1_return = f1_score(Y_test, Y_pred, pos_label=1, zero_division=0)\n",
        "\n",
        "print(f\" 반품 정밀도 (Precision): {precision_return:.4f} (예측된 반품 중 실제 반품 비율)\")\n",
        "print(f\" 반품 재현율 (Recall): {recall_return:.4f} (실제 반품 중 예측 성공 비율)\")\n",
        "print(f\" 반품 F1-Score: {f1_return:.4f} (정밀도와 재현율의 조화평균)\")"
      ],
      "metadata": {
        "colab": {
          "base_uri": "https://localhost:8080/"
        },
        "id": "5Dj_QO17xTg9",
        "outputId": "0745ee74-f28b-489e-d359-0ec3f05a8fbb"
      },
      "execution_count": 34,
      "outputs": [
        {
          "output_type": "stream",
          "name": "stdout",
          "text": [
            "\n",
            "==================================================\n",
            "### 2. 분류 보고서 (Classification Report) ###\n",
            "--------------------------------------------------\n",
            "              precision    recall  f1-score   support\n",
            "\n",
            "           0       0.98      1.00      0.99    119365\n",
            "           1       0.62      0.00      0.01      2672\n",
            "\n",
            "    accuracy                           0.98    122037\n",
            "   macro avg       0.80      0.50      0.50    122037\n",
            "weighted avg       0.97      0.98      0.97    122037\n",
            "\n",
            " 반품 정밀도 (Precision): 0.6250 (예측된 반품 중 실제 반품 비율)\n",
            " 반품 재현율 (Recall): 0.0037 (실제 반품 중 예측 성공 비율)\n",
            " 반품 F1-Score: 0.0074 (정밀도와 재현율의 조화평균)\n"
          ]
        }
      ]
    },
    {
      "cell_type": "code",
      "source": [
        "from sklearn.ensemble import RandomForestClassifier\n",
        "from sklearn.metrics import confusion_matrix, classification_report, f1_score, precision_score, recall_score\n",
        "\n",
        "# Random Forest 모델 생성 및 학습\n",
        "rf_model = RandomForestClassifier(\n",
        "    n_estimators=100,\n",
        "    random_state=42,\n",
        "    class_weight='balanced', # 반품(1) 클래스에 가중치 부여\n",
        "    n_jobs=-1 # 모든 코어 사용\n",
        ")\n",
        "rf_model.fit(X_train, Y_train)\n",
        "\n",
        "# Test 데이터셋으로 예측\n",
        "Y_pred_rf = rf_model.predict(X_test)"
      ],
      "metadata": {
        "id": "Ubl9bqnAxWfR"
      },
      "execution_count": 35,
      "outputs": []
    },
    {
      "cell_type": "code",
      "source": [
        "cm_rf = confusion_matrix(Y_test, Y_pred_rf)\n",
        "\n",
        "class_names = ['n-return (0)', 'return (1)']\n",
        "\n",
        "# --- 히트맵 시각화 ---\n",
        "plt.figure(figsize=(8, 6))\n",
        "sns.heatmap(\n",
        "    cm_rf,\n",
        "    annot=True,\n",
        "    fmt='d',\n",
        "    cmap='Blues',\n",
        "    xticklabels=class_names,\n",
        "    yticklabels=class_names,\n",
        "    cbar=False\n",
        ")\n",
        "\n",
        "plt.xlabel('Predicted Label')\n",
        "plt.ylabel('True Label')\n",
        "plt.title('Confusion Matrix Heatmap')\n",
        "plt.show()"
      ],
      "metadata": {
        "colab": {
          "base_uri": "https://localhost:8080/",
          "height": 564
        },
        "id": "tdmyBiV1xcMX",
        "outputId": "dbf45976-5a09-4595-f5d0-374f31511d34"
      },
      "execution_count": 49,
      "outputs": [
        {
          "output_type": "display_data",
          "data": {
            "text/plain": [
              "<Figure size 800x600 with 1 Axes>"
            ],
            "image/png": "[encoded data removed]"
          },
          "metadata": {}
        }
      ]
    },
    {
      "cell_type": "code",
      "source": [
        "report_rf = classification_report(Y_test, Y_pred_rf, zero_division=0)\n",
        "\n",
        "print(\"\\n\" + \"=\"*50)\n",
        "print(\"### 2. 랜덤 포레스트 분류 보고서 (IsReturn=1) ###\")\n",
        "print(\"-\" * 50)\n",
        "print(report_rf)\n",
        "\n",
        "# 주요 지표 추출 (반품 클래스, 즉 '1'에 초점)\n",
        "precision_rf = precision_score(Y_test, Y_pred_rf, pos_label=1, zero_division=0)\n",
        "recall_rf = recall_score(Y_test, Y_pred_rf, pos_label=1, zero_division=0)\n",
        "f1_rf = f1_score(Y_test, Y_pred_rf, pos_label=1, zero_division=0)\n",
        "\n",
        "print(f\" 반품 정밀도 (Precision): {precision_rf:.4f}\")\n",
        "print(f\" 반품 재현율 (Recall): {recall_rf:.4f}\")\n",
        "print(f\" 반품 F1-Score: {f1_rf:.4f}\")"
      ],
      "metadata": {
        "colab": {
          "base_uri": "https://localhost:8080/"
        },
        "id": "ZeIU3wFuxdFf",
        "outputId": "a7f63cbe-75c3-46d4-f28b-f37049858ccd"
      },
      "execution_count": 37,
      "outputs": [
        {
          "output_type": "stream",
          "name": "stdout",
          "text": [
            "\n",
            "==================================================\n",
            "### 2. 랜덤 포레스트 분류 보고서 (IsReturn=1) ###\n",
            "--------------------------------------------------\n",
            "              precision    recall  f1-score   support\n",
            "\n",
            "           0       0.98      0.67      0.80    119365\n",
            "           1       0.03      0.42      0.05      2672\n",
            "\n",
            "    accuracy                           0.66    122037\n",
            "   macro avg       0.50      0.54      0.42    122037\n",
            "weighted avg       0.96      0.66      0.78    122037\n",
            "\n",
            " 반품 정밀도 (Precision): 0.0276\n",
            " 반품 재현율 (Recall): 0.4199\n",
            " 반품 F1-Score: 0.0518\n"
          ]
        }
      ]
    },
    {
      "cell_type": "code",
      "source": [
        "import matplotlib.pyplot as plt\n",
        "from sklearn.metrics import roc_curve, auc\n",
        "import numpy as np\n",
        "\n",
        "plt.figure(figsize=(10, 8))\n",
        "\n",
        "# --- 1. Logistic Regression Model ROC Curve and AUC Calculation ---\n",
        "# Y_pred_proba: 로지스틱 회귀 모델의 예측 확률\n",
        "# Y_test: 실제 레이블\n",
        "\n",
        "fpr_logit, tpr_logit, thresholds_logit = roc_curve(Y_test, Y_pred_proba)\n",
        "auc_logit = auc(fpr_logit, tpr_logit)\n",
        "\n",
        "# ROC Curve plotting (Logistic Regression)\n",
        "plt.plot(fpr_logit, tpr_logit, color='blue', lw=2,\n",
        "         label=f'Logistic Regression (AUC = {auc_logit:.4f})')\n",
        "\n",
        "# --- 2. Random Forest Model ROC Curve and AUC Calculation ---\n",
        "# Y_pred_proba_rf: 랜덤 포레스트 모델의 예측 확률\n",
        "Y_pred_proba_rf = rf_model.predict_proba(X_test)[:, 1]\n",
        "\n",
        "fpr_rf, tpr_rf, thresholds_rf = roc_curve(Y_test, Y_pred_proba_rf)\n",
        "auc_rf = auc(fpr_rf, tpr_rf)\n",
        "\n",
        "# ROC Curve plotting (Random Forest)\n",
        "plt.plot(fpr_rf, tpr_rf, color='red', lw=2,\n",
        "         label=f'Random Forest (AUC = {auc_rf:.4f})')\n",
        "\n",
        "\n",
        "# ---  Graph Settings  ---\n",
        "plt.plot([0, 1], [0, 1], color='gray', linestyle='--', lw=1,\n",
        "         label='Random Classifier (AUC = 0.5)') # 랜덤 분류기 선\n",
        "\n",
        "plt.xlim([0.0, 1.0])\n",
        "plt.ylim([0.0, 1.05])\n",
        "plt.xlabel('False Positive Rate') # 거짓 양성률\n",
        "plt.ylabel('True Positive Rate (Recall)') # 참 양성률 (재현율)\n",
        "plt.title('ROC Curve: Return Prediction Model Comparison') # ROC 곡선: 반품 예측 모델 비교\n",
        "plt.legend(loc=\"lower right\")\n",
        "plt.grid(True)\n",
        "plt.show()"
      ],
      "metadata": {
        "colab": {
          "base_uri": "https://localhost:8080/",
          "height": 718
        },
        "id": "PwMoCIW-xeUz",
        "outputId": "0fb4811b-8cb7-44e9-f8b6-fcbd819431d1"
      },
      "execution_count": 38,
      "outputs": [
        {
          "output_type": "display_data",
          "data": {
            "text/plain": [
              "<Figure size 1000x800 with 1 Axes>"
            ],
            "image/png": "[encoded data removed]"
          },
          "metadata": {}
        }
      ]
    },
    {
      "cell_type": "code",
      "source": [
        "import pandas as pd\n",
        "import numpy as np\n",
        "from IPython.display import display, HTML\n",
        "from sklearn.metrics import accuracy_score, recall_score, f1_score, roc_auc_score, roc_curve, auc\n",
        "\n",
        "# --- 0. 성능 지표 계산 (이전 단계에서 정의된 Y_test, Y_pred, Y_pred_rf 변수 사용 가정) ---\n",
        "\n",
        "# 로지스틱 회귀 모델 지표\n",
        "acc_logit = accuracy_score(Y_test, Y_pred)\n",
        "recall_logit = recall_score(Y_test, Y_pred, pos_label=1, zero_division=0)\n",
        "f1_logit = f1_score(Y_test, Y_pred, pos_label=1, zero_division=0)\n",
        "auc_logit = roc_auc_score(Y_test, Y_pred_proba) # Y_pred_proba는 확률값\n",
        "\n",
        "# 랜덤 포레스트 모델 지표\n",
        "acc_rf = accuracy_score(Y_test, Y_pred_rf)\n",
        "recall_rf = recall_score(Y_test, Y_pred_rf, pos_label=1, zero_division=0)\n",
        "f1_rf = f1_score(Y_test, Y_pred_rf, pos_label=1, zero_division=0)\n",
        "# Y_pred_proba_rf는 이전에 rf_model.predict_proba(X_test)[:, 1]로 계산됨\n",
        "Y_pred_proba_rf = rf_model.predict_proba(X_test)[:, 1]\n",
        "auc_rf = roc_auc_score(Y_test, Y_pred_proba_rf)\n",
        "\n",
        "# --- 1. 결과 데이터프레임 생성 ---\n",
        "data = {\n",
        "    \"Model\": [\"Logistic Regression\", \"Random Forest\"],\n",
        "    \"Accuracy\": [acc_logit, acc_rf],\n",
        "    \"Recall\": [recall_logit, recall_rf],\n",
        "    \"F1-Score\": [f1_logit, f1_rf],\n",
        "    \"ROC-AUC\": [auc_logit, auc_rf]\n",
        "}\n",
        "result_df = pd.DataFrame(data)\n",
        "\n",
        "# --- 2. 성능 등급 자동 태그 함수 ---\n",
        "def performance_tag(value):\n",
        "    if value >= 0.9:\n",
        "        return \"🟢 Excellent\"\n",
        "    elif value >= 0.8:\n",
        "        return \"🟡 Good\"\n",
        "    else:\n",
        "        return \"🔴 Fair\"\n",
        "\n",
        "# --- 3. 등급 컬럼 추가 및 스타일링 ---\n",
        "df_colored = result_df.copy()\n",
        "df_colored.columns = [\n",
        "    \"Model\",\n",
        "    \"Accuracy\\n(정확도)\",\n",
        "    \"Recall\\n(재현율)\",\n",
        "    \"F1-Score\\n(정밀도+재현율\\n조화평균)\",\n",
        "    \"ROC-AUC\\n(모델 전체\\n구분력)\"\n",
        "]\n",
        "\n",
        "# 각 지표별 등급 계산\n",
        "df_colored[\"등급\\n(정확도)\"] = df_colored[\"Accuracy\\n(정확도)\"].apply(performance_tag)\n",
        "df_colored[\"등급\\n(재현율)\"] = df_colored[\"Recall\\n(재현율)\"].apply(performance_tag)\n",
        "df_colored[\"등급\\n(AUC)\"] = df_colored[\"ROC-AUC\\n(모델 전체\\n구분력)\"].apply(performance_tag)\n",
        "\n",
        "# Style 표 + Caption 설정\n",
        "styled = (\n",
        "    df_colored.style\n",
        "    .format(subset=[\"Accuracy\\n(정확도)\", \"Recall\\n(재현율)\", \"F1-Score\\n(정밀도+재현율\\n조화평균)\", \"ROC-AUC\\n(모델 전체\\n구분력)\"], formatter=\"{:.4f}\")\n",
        "    .set_table_styles([\n",
        "        {'selector': 'th', 'props': [('text-align', 'center'),\n",
        "                                     ('white-space', 'pre-line'),\n",
        "                                     ('background-color', '#222'),\n",
        "                                     ('color', 'white'),\n",
        "                                     ('border', '1px solid #555')]},\n",
        "        {'selector': 'td', 'props': [('text-align', 'center'),\n",
        "                                     ('border', '1px solid #555')]}\n",
        "    ])\n",
        "    .set_caption(\" 반품 예측 모델 성능 비교 및 등급 평가\")\n",
        ")\n",
        "\n",
        "display(styled)\n",
        "\n",
        "# --- 4. 평가 기준 해설 및 요약 결론 ---\n",
        "\n",
        "print(\"\\n\" + \"=\"*50)\n",
        "print(\"###  성능 평가 기준 해설\")\n",
        "print(\"-\" * 50)\n",
        "print(f\"- Accuracy (정확도): 전체 거래 중 반품/정상을 정확히 구분한 비율 (0.9 이상이면 🟢 Excellent)\")\n",
        "print(f\"- Recall (재현율): 실제 반품 거래 중 반품으로 탐지한 비율 (0.8 이상 🟡 Good, 0.9 이상 🟢 Excellent)\")\n",
        "print(f\"- F1-Score (정밀도+재현율 조화평균): 탐지(Recall)와 정밀도(Precision)의 균형 지표\")\n",
        "print(f\"- ROC-AUC (모델 전체 구분력): 반품과 정상 거래를 구분하는 전체 능력 (0.8 이상 🟡 Good, 0.9 이상 🟢 Excellent)\")\n",
        "\n",
        "# 요약 결론\n",
        "best_auc_model = df_colored.iloc[df_colored[\"ROC-AUC\\n(모델 전체\\n구분력)\"].idxmax(), 0]\n",
        "best_recall_model = df_colored.iloc[df_colored[\"Recall\\n(재현율)\"].idxmax(), 0]\n",
        "\n",
        "print(\"\\n\" + \"=\"*50)\n",
        "print(\"###  최종 모델 비교 요약 결론\")\n",
        "print(\"-\" * 50)\n",
        "\n",
        "print(f\"[ 요약 결론 case 1 ] ROC-AUC 기준 최적 모델은 **{best_auc_model}** 입니다. (전반적인 구분력 최고)\")\n",
        "\n",
        "print(f\"\\n[ 요약 결론 case 2: 실무적 고려 ]\")\n",
        "print(f\"- ROC-AUC 기준 최적 모델: **{best_auc_model}** (구분력 최고)\")\n",
        "print(f\"- Recall 기준 최적 모델: **{best_recall_model}** (실제 반품 탐지율 최고)\")\n",
        "print(f\"\\n 반품 예측에서는 **실제 반품을 놓치지 않는 것(높은 Recall)**이 중요합니다 (재고 및 물류 비용 손실 방지). 따라서 종합적으로 **{best_recall_model}** 모델이 실용적으로 가장 적합할 수 있습니다.\")\n",
        "print(\"=\"*50)"
      ],
      "metadata": {
        "id": "xPqkxs0N3Tf1",
        "colab": {
          "base_uri": "https://localhost:8080/",
          "height": 557
        },
        "outputId": "b715f47e-0d6d-4dae-d831-1a6e6218f34c"
      },
      "execution_count": 39,
      "outputs": [
        {
          "output_type": "display_data",
          "data": {
            "text/plain": [
              "<pandas.io.formats.style.Styler at 0x7902706503b0>"
            ],
            "text/html": [
              "<style type=\"text/css\">\n",
              "#T_0388f th {\n",
              "  text-align: center;\n",
              "  white-space: pre-line;\n",
              "  background-color: #222;\n",
              "  color: white;\n",
              "  border: 1px solid #555;\n",
              "}\n",
              "#T_0388f td {\n",
              "  text-align: center;\n",
              "  border: 1px solid #555;\n",
              "}\n",
              "</style>\n",
              "<table id=\"T_0388f\" class=\"dataframe\">\n",
              "  <caption> 반품 예측 모델 성능 비교 및 등급 평가</caption>\n",
              "  <thead>\n",
              "    <tr>\n",
              "      <th class=\"blank level0\" >&nbsp;</th>\n",
              "      <th id=\"T_0388f_level0_col0\" class=\"col_heading level0 col0\" >Model</th>\n",
              "      <th id=\"T_0388f_level0_col1\" class=\"col_heading level0 col1\" >Accuracy\n",
              "(정확도)</th>\n",
              "      <th id=\"T_0388f_level0_col2\" class=\"col_heading level0 col2\" >Recall\n",
              "(재현율)</th>\n",
              "      <th id=\"T_0388f_level0_col3\" class=\"col_heading level0 col3\" >F1-Score\n",
              "(정밀도+재현율\n",
              "조화평균)</th>\n",
              "      <th id=\"T_0388f_level0_col4\" class=\"col_heading level0 col4\" >ROC-AUC\n",
              "(모델 전체\n",
              "구분력)</th>\n",
              "      <th id=\"T_0388f_level0_col5\" class=\"col_heading level0 col5\" >등급\n",
              "(정확도)</th>\n",
              "      <th id=\"T_0388f_level0_col6\" class=\"col_heading level0 col6\" >등급\n",
              "(재현율)</th>\n",
              "      <th id=\"T_0388f_level0_col7\" class=\"col_heading level0 col7\" >등급\n",
              "(AUC)</th>\n",
              "    </tr>\n",
              "  </thead>\n",
              "  <tbody>\n",
              "    <tr>\n",
              "      <th id=\"T_0388f_level0_row0\" class=\"row_heading level0 row0\" >0</th>\n",
              "      <td id=\"T_0388f_row0_col0\" class=\"data row0 col0\" >Logistic Regression</td>\n",
              "      <td id=\"T_0388f_row0_col1\" class=\"data row0 col1\" >0.9781</td>\n",
              "      <td id=\"T_0388f_row0_col2\" class=\"data row0 col2\" >0.0037</td>\n",
              "      <td id=\"T_0388f_row0_col3\" class=\"data row0 col3\" >0.0074</td>\n",
              "      <td id=\"T_0388f_row0_col4\" class=\"data row0 col4\" >0.5656</td>\n",
              "      <td id=\"T_0388f_row0_col5\" class=\"data row0 col5\" >🟢 Excellent</td>\n",
              "      <td id=\"T_0388f_row0_col6\" class=\"data row0 col6\" >🔴 Fair</td>\n",
              "      <td id=\"T_0388f_row0_col7\" class=\"data row0 col7\" >🔴 Fair</td>\n",
              "    </tr>\n",
              "    <tr>\n",
              "      <th id=\"T_0388f_level0_row1\" class=\"row_heading level0 row1\" >1</th>\n",
              "      <td id=\"T_0388f_row1_col0\" class=\"data row1 col0\" >Random Forest</td>\n",
              "      <td id=\"T_0388f_row1_col1\" class=\"data row1 col1\" >0.6631</td>\n",
              "      <td id=\"T_0388f_row1_col2\" class=\"data row1 col2\" >0.4199</td>\n",
              "      <td id=\"T_0388f_row1_col3\" class=\"data row1 col3\" >0.0518</td>\n",
              "      <td id=\"T_0388f_row1_col4\" class=\"data row1 col4\" >0.5695</td>\n",
              "      <td id=\"T_0388f_row1_col5\" class=\"data row1 col5\" >🔴 Fair</td>\n",
              "      <td id=\"T_0388f_row1_col6\" class=\"data row1 col6\" >🔴 Fair</td>\n",
              "      <td id=\"T_0388f_row1_col7\" class=\"data row1 col7\" >🔴 Fair</td>\n",
              "    </tr>\n",
              "  </tbody>\n",
              "</table>\n"
            ]
          },
          "metadata": {}
        },
        {
          "output_type": "stream",
          "name": "stdout",
          "text": [
            "\n",
            "==================================================\n",
            "###  성능 평가 기준 해설\n",
            "--------------------------------------------------\n",
            "- Accuracy (정확도): 전체 거래 중 반품/정상을 정확히 구분한 비율 (0.9 이상이면 🟢 Excellent)\n",
            "- Recall (재현율): 실제 반품 거래 중 반품으로 탐지한 비율 (0.8 이상 🟡 Good, 0.9 이상 🟢 Excellent)\n",
            "- F1-Score (정밀도+재현율 조화평균): 탐지(Recall)와 정밀도(Precision)의 균형 지표\n",
            "- ROC-AUC (모델 전체 구분력): 반품과 정상 거래를 구분하는 전체 능력 (0.8 이상 🟡 Good, 0.9 이상 🟢 Excellent)\n",
            "\n",
            "==================================================\n",
            "###  최종 모델 비교 요약 결론\n",
            "--------------------------------------------------\n",
            "[ 요약 결론 case 1 ] ROC-AUC 기준 최적 모델은 **Random Forest** 입니다. (전반적인 구분력 최고)\n",
            "\n",
            "[ 요약 결론 case 2: 실무적 고려 ]\n",
            "- ROC-AUC 기준 최적 모델: **Random Forest** (구분력 최고)\n",
            "- Recall 기준 최적 모델: **Random Forest** (실제 반품 탐지율 최고)\n",
            "\n",
            " 반품 예측에서는 **실제 반품을 놓치지 않는 것(높은 Recall)**이 중요합니다 (재고 및 물류 비용 손실 방지). 따라서 종합적으로 **Random Forest** 모델이 실용적으로 가장 적합할 수 있습니다.\n",
            "==================================================\n"
          ]
        }
      ]
    },
    {
      "cell_type": "markdown",
      "source": [
        "로지스틱 회귀 : 선형모델이므로 독립변수와 종속변수간의 관계가 직선적이라고 가정함. 현실 세계의 복잡한 데이터 패턴을 선형적으로 설명하기 어려움.\n",
        "\n",
        "랜덤포레스트 : 앙상블 및 비선형 모델이므로 여러 개의 의사결정 트리를 조합해서 복잡한 곡선, 비선형적 상호작용을 자동으로 학습함. 복합적인 조건을 기반으로 예측함.\n",
        "\n",
        "이에 따라서 반품 데이터의 특성은 데이터 불균형이 심하고 극단적인 이상치가 존재하므로 이상치에 덜 민감한 랜덤 포레스트를 사용함이 좋음."
      ],
      "metadata": {
        "id": "5rZ9OBYFRwc0"
      }
    },
    {
      "cell_type": "code",
      "source": [
        "# 만약 로지스틱 회귀모델의 성능을 더 높이려면?\n",
        "\n",
        "import pandas as pd\n",
        "import numpy as np\n",
        "import statsmodels.api as sm\n",
        "from sklearn.model_selection import train_test_split\n",
        "from sklearn.preprocessing import StandardScaler\n",
        "from sklearn.metrics import recall_score, roc_auc_score, f1_score\n",
        "\n",
        "# 1. 초기 데이터 클리닝 및 피처 생성\n",
        "\n",
        "df_logi = df.copy()\n",
        "\n",
        "# 1-1. IsReturn 피처 생성 (Quantity가 음수이면 반품=1)\n",
        "df_logi['IsReturn'] = (df_logi['Quantity'] < 0).astype(int)\n",
        "\n",
        "# 1-2. Quantity를 양수로 통일\n",
        "df_logi['Quantity'] = df_logi['Quantity'].abs()\n",
        "\n",
        "# 1-3. 이상치/결측치 처리 (UnitPrice > 0)\n",
        "df_logi = df_logi[df_logi['UnitPrice'] > 0].dropna()\n",
        "\n",
        "# 1-4. Country 그룹핑 및 범주형 변수 설정\n",
        "top_5_countries = df_logi['Country'].value_counts().nlargest(5).index\n",
        "df_logi['Country_Processed'] = df_logi['Country'].apply(\n",
        "    lambda x: x if x in top_5_countries else 'Other'\n",
        ")\n",
        "df_logi['DayOfWeek'] = df_logi['DayOfWeek'].astype('category')\n",
        "df_logi['InvoiceMonth'] = df_logi['InvoiceMonth'].astype('category')\n",
        "\n",
        "\n",
        "# ====================================================================\n",
        "# 2. 성능 개선을 위한 피처 엔지니어링 (로그 변환 & 상호작용)\n",
        "# ====================================================================\n",
        "\n",
        "# 2-1. 로그 변환 (이상치 및 비선형성 해결)\n",
        "# np.log1p(x) = log(1+x), 0 이상의 값에 대해 안정적으로 로그 변환\n",
        "df_logi['Log_UnitPrice'] = np.log1p(df_logi['UnitPrice'])\n",
        "df_logi['Log_Quantity'] = np.log1p(df_logi['Quantity'])\n",
        "\n",
        "# 2-2. 상호작용 항 추가 (비선형 관계 포착)\n",
        "df_logi['Price_Qty_Interaction'] = df_logi['Log_UnitPrice'] * df_logi['Log_Quantity']\n",
        "\n",
        "\n",
        "# ====================================================================\n",
        "# 3. 모델링 데이터셋 구성 및 분할\n",
        "# ====================================================================\n",
        "\n",
        "# 3-1. 최종 데이터프레임 구성 전 인덱스 통일\n",
        "df_logi = df_logi.reset_index(drop=True) # 전체 df의 인덱스 초기화\n",
        "\n",
        "# 더미 변수 생성 (df_logi의 인덱스를 따름)\n",
        "X_dummies = pd.get_dummies(\n",
        "    df_logi[['Country_Processed', 'InvoiceMonth']],\n",
        "    drop_first=True\n",
        ")\n",
        "# X_dummies도 인덱스를 초기화 (안정성 확보)\n",
        "X_dummies = X_dummies.reset_index(drop=True).astype(int)\n",
        "\n",
        "# 독립변수 X_new 구성 (Index 통일되었으므로 안전하게 concat)\n",
        "X_new = pd.concat([\n",
        "    df_logi[['Log_UnitPrice', 'Log_Quantity', 'Price_Qty_Interaction']],\n",
        "    X_dummies\n",
        "], axis=1)\n",
        "\n",
        "Y_new = df_logi['IsReturn']\n",
        "\n",
        "# 3-2. 데이터 분할 (Train: 70%, Test: 30%)\n",
        "X_train_new, X_test_new, Y_train_new, Y_test_new = train_test_split(\n",
        "    X_new, Y_new, test_size=0.3, random_state=42, stratify=Y_new # stratify=Y를 통해 반품 비율 유지\n",
        ")\n",
        "\n",
        "# 3-3. 연속형 변수 표준화\n",
        "scaler_new = StandardScaler()\n",
        "cont_cols = ['Log_UnitPrice', 'Log_Quantity', 'Price_Qty_Interaction']\n",
        "\n",
        "X_train_new[cont_cols] = scaler_new.fit_transform(X_train_new[cont_cols])\n",
        "X_test_new[cont_cols] = scaler_new.transform(X_test_new[cont_cols])\n",
        "\n",
        "\n",
        "# ====================================================================\n",
        "# 4. 개선된 로지스틱 회귀 모델 학습 및 성능 평가\n",
        "# ====================================================================\n",
        "\n",
        "# 모델 학습\n",
        "logit_model_new = sm.Logit(Y_train_new, X_train_new)\n",
        "result_new = logit_model_new.fit(disp=0)\n",
        "\n",
        "# 예측 확률 계산\n",
        "Y_pred_proba_new = result_new.predict(X_test_new)\n",
        "\n",
        "# 임계값 조정 (Recall 개선을 위해 0.5 대신 0.35 사용)\n",
        "optimal_threshold = 0.35\n",
        "Y_pred_new = (Y_pred_proba_new >= optimal_threshold).astype(int)\n",
        "\n",
        "\n",
        "# --- 결과 출력 ---\n",
        "print(\"\\n\" + \"=\"*70)\n",
        "print(\"###  개선된 로지스틱 회귀 모델 (로그 변환 & 상호작용) 결과 ###\")\n",
        "print(\"=\"*70)\n",
        "print(result_new.summary().tables[1]) # 새로운 계수 테이블 출력\n",
        "\n",
        "# 주요 지표 계산 및 출력\n",
        "recall_new = recall_score(Y_test_new, Y_pred_new, pos_label=1, zero_division=0)\n",
        "f1_new = f1_score(Y_test_new, Y_pred_new, pos_label=1, zero_division=0)\n",
        "auc_new = roc_auc_score(Y_test_new, Y_pred_proba_new)\n",
        "\n",
        "print(\"-\" * 70)\n",
        "print(f\" 개선된 모델의 ROC-AUC (모델 전반적 구분력): {auc_new:.4f}\")\n",
        "print(f\" 사용된 임계값 (Threshold): {optimal_threshold} (Recall 개선 목적)\")\n",
        "print(f\" 개선된 모델의 재현율 (Recall): {recall_new:.4f}\")\n",
        "print(f\" 개선된 모델의 F1-Score: {f1_new:.4f}\")\n",
        "print(\"=\"*70)"
      ],
      "metadata": {
        "colab": {
          "base_uri": "https://localhost:8080/"
        },
        "id": "hKqIdu7ZtiNP",
        "outputId": "708d6541-c902-4018-e214-57efb20f3df1"
      },
      "execution_count": 50,
      "outputs": [
        {
          "output_type": "stream",
          "name": "stdout",
          "text": [
            "\n",
            "======================================================================\n",
            "###  개선된 로지스틱 회귀 모델 (로그 변환 & 상호작용) 결과 ###\n",
            "======================================================================\n",
            "====================================================================================================\n",
            "                                       coef    std err          z      P>|z|      [0.025      0.975]\n",
            "----------------------------------------------------------------------------------------------------\n",
            "Log_UnitPrice                        0.4309      0.020     22.084      0.000       0.393       0.469\n",
            "Log_Quantity                        -0.1664      0.027     -6.091      0.000      -0.220      -0.113\n",
            "Price_Qty_Interaction               -0.4175      0.028    -14.903      0.000      -0.472      -0.363\n",
            "Country_Processed_France            -2.7593      0.105    -26.336      0.000      -2.965      -2.554\n",
            "Country_Processed_Germany           -1.7935      0.064    -28.091      0.000      -1.919      -1.668\n",
            "Country_Processed_Other             -2.0957      0.060    -35.090      0.000      -2.213      -1.979\n",
            "Country_Processed_Spain             -3.0161      0.177    -17.061      0.000      -3.363      -2.670\n",
            "Country_Processed_United Kingdom    -2.7202      0.027   -101.721      0.000      -2.773      -2.668\n",
            "InvoiceMonth_2                      -1.4780      0.063    -23.389      0.000      -1.602      -1.354\n",
            "InvoiceMonth_3                      -1.3757      0.053    -25.811      0.000      -1.480      -1.271\n",
            "InvoiceMonth_4                      -1.2885      0.056    -22.819      0.000      -1.399      -1.178\n",
            "InvoiceMonth_5                      -1.5321      0.056    -27.183      0.000      -1.643      -1.422\n",
            "InvoiceMonth_6                      -1.3868      0.053    -26.073      0.000      -1.491      -1.283\n",
            "InvoiceMonth_7                      -1.2869      0.052    -24.957      0.000      -1.388      -1.186\n",
            "InvoiceMonth_8                      -1.3571      0.053    -25.667      0.000      -1.461      -1.253\n",
            "InvoiceMonth_9                      -1.5485      0.048    -32.120      0.000      -1.643      -1.454\n",
            "InvoiceMonth_10                     -1.4490      0.043    -33.938      0.000      -1.533      -1.365\n",
            "InvoiceMonth_11                     -1.7732      0.044    -40.630      0.000      -1.859      -1.688\n",
            "InvoiceMonth_12                     -1.3664      0.044    -30.872      0.000      -1.453      -1.280\n",
            "====================================================================================================\n",
            "----------------------------------------------------------------------\n",
            " 개선된 모델의 ROC-AUC (모델 전반적 구분력): 0.6587\n",
            " 사용된 임계값 (Threshold): 0.35 (Recall 개선 목적)\n",
            " 개선된 모델의 재현율 (Recall): 0.0079\n",
            " 개선된 모델의 F1-Score: 0.0148\n",
            "======================================================================\n"
          ]
        }
      ]
    },
    {
      "cell_type": "markdown",
      "source": [
        "recall 값이 0.0037에서 0.0079로 약 2배정도 높아짐."
      ],
      "metadata": {
        "id": "Z0xiCGRwufjm"
      }
    },
    {
      "cell_type": "code",
      "source": [],
      "metadata": {
        "id": "AB8hyAH0umx2"
      },
      "execution_count": null,
      "outputs": []
    }
  ]
}
